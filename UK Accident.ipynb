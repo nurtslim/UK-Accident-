{
 "cells": [
  {
   "cell_type": "code",
   "execution_count": 1,
   "metadata": {},
   "outputs": [],
   "source": [
    "#importing necessary libraries"
   ]
  },
  {
   "cell_type": "code",
   "execution_count": 2,
   "metadata": {},
   "outputs": [],
   "source": [
    "import numpy as np\n",
    "import pandas as pd\n",
    "import warnings\n",
    "import datetime\n",
    "import matplotlib.pyplot as plt\n",
    "import seaborn as sns\n",
    "import datetime\n",
    "import scipy\n",
    "#warnings.filterwarnings('ignore')\n",
    "import scipy\n",
    "import seaborn as sns\n",
    "from sklearn import preprocessing, cluster\n",
    "from sklearn.feature_selection import SelectKBest, chi2, f_regression, f_classif\n",
    "from sklearn.metrics import classification_report\n",
    "from sklearn.cluster import KMeans\n",
    "from sklearn.naive_bayes import GaussianNB\n",
    "from sklearn.model_selection import train_test_split\n",
    "from sklearn import tree\n",
    "from sklearn.tree import DecisionTreeClassifier\n",
    "from sklearn.preprocessing import LabelEncoder, OneHotEncoder, StandardScaler, OrdinalEncoder"
   ]
  },
  {
   "cell_type": "code",
   "execution_count": 3,
   "metadata": {},
   "outputs": [],
   "source": [
    "from numpy import mean\n",
    "from numpy import std\n",
    "from sklearn.model_selection import cross_val_score\n",
    "from sklearn.model_selection import RepeatedStratifiedKFold\n",
    "from sklearn.linear_model import LogisticRegression\n",
    "from sklearn.neighbors import KNeighborsClassifier\n",
    "from sklearn.tree import DecisionTreeClassifier\n",
    "from sklearn.naive_bayes import GaussianNB\n",
    "from matplotlib import pyplot\n"
   ]
  },
  {
   "cell_type": "code",
   "execution_count": null,
   "metadata": {},
   "outputs": [],
   "source": []
  },
  {
   "cell_type": "markdown",
   "metadata": {},
   "source": [
    "# Reading in the data into Dataframe into Dataframe"
   ]
  },
  {
   "cell_type": "code",
   "execution_count": 4,
   "metadata": {},
   "outputs": [
    {
     "name": "stderr",
     "output_type": "stream",
     "text": [
      "C:\\Users\\USER\\anaconda3\\lib\\site-packages\\IPython\\core\\interactiveshell.py:3343: DtypeWarning: Columns (0,31) have mixed types.Specify dtype option on import or set low_memory=False.\n",
      "  exec(code_obj, self.user_global_ns, self.user_ns)\n",
      "C:\\Users\\USER\\anaconda3\\lib\\site-packages\\IPython\\core\\interactiveshell.py:3343: DtypeWarning: Columns (0) have mixed types.Specify dtype option on import or set low_memory=False.\n",
      "  exec(code_obj, self.user_global_ns, self.user_ns)\n"
     ]
    }
   ],
   "source": [
    "accident = pd.read_csv('Road Safety Data - Accidents 2019.csv')\n",
    "casualities = pd.read_csv('Road Safety Data - Casualties 2019.csv')\n",
    "vehicles = pd.read_csv('Road Safety Data- Vehicles 2019.csv')\n"
   ]
  },
  {
   "cell_type": "code",
   "execution_count": 5,
   "metadata": {},
   "outputs": [
    {
     "data": {
      "text/html": [
       "<div>\n",
       "<style scoped>\n",
       "    .dataframe tbody tr th:only-of-type {\n",
       "        vertical-align: middle;\n",
       "    }\n",
       "\n",
       "    .dataframe tbody tr th {\n",
       "        vertical-align: top;\n",
       "    }\n",
       "\n",
       "    .dataframe thead th {\n",
       "        text-align: right;\n",
       "    }\n",
       "</style>\n",
       "<table border=\"1\" class=\"dataframe\">\n",
       "  <thead>\n",
       "    <tr style=\"text-align: right;\">\n",
       "      <th></th>\n",
       "      <th>Accident_Index</th>\n",
       "      <th>Location_Easting_OSGR</th>\n",
       "      <th>Location_Northing_OSGR</th>\n",
       "      <th>Longitude</th>\n",
       "      <th>Latitude</th>\n",
       "      <th>Police_Force</th>\n",
       "      <th>Accident_Severity</th>\n",
       "      <th>Number_of_Vehicles</th>\n",
       "      <th>Number_of_Casualties</th>\n",
       "      <th>Date</th>\n",
       "      <th>...</th>\n",
       "      <th>Pedestrian_Crossing-Human_Control</th>\n",
       "      <th>Pedestrian_Crossing-Physical_Facilities</th>\n",
       "      <th>Light_Conditions</th>\n",
       "      <th>Weather_Conditions</th>\n",
       "      <th>Road_Surface_Conditions</th>\n",
       "      <th>Special_Conditions_at_Site</th>\n",
       "      <th>Carriageway_Hazards</th>\n",
       "      <th>Urban_or_Rural_Area</th>\n",
       "      <th>Did_Police_Officer_Attend_Scene_of_Accident</th>\n",
       "      <th>LSOA_of_Accident_Location</th>\n",
       "    </tr>\n",
       "  </thead>\n",
       "  <tbody>\n",
       "    <tr>\n",
       "      <th>0</th>\n",
       "      <td>2019010128300</td>\n",
       "      <td>528218.0</td>\n",
       "      <td>180407.0</td>\n",
       "      <td>-0.153842</td>\n",
       "      <td>51.508057</td>\n",
       "      <td>1</td>\n",
       "      <td>3</td>\n",
       "      <td>2</td>\n",
       "      <td>3</td>\n",
       "      <td>18/02/2019</td>\n",
       "      <td>...</td>\n",
       "      <td>0</td>\n",
       "      <td>5</td>\n",
       "      <td>1</td>\n",
       "      <td>1</td>\n",
       "      <td>1</td>\n",
       "      <td>0</td>\n",
       "      <td>0</td>\n",
       "      <td>1</td>\n",
       "      <td>3</td>\n",
       "      <td>E01004762</td>\n",
       "    </tr>\n",
       "    <tr>\n",
       "      <th>1</th>\n",
       "      <td>2019010152270</td>\n",
       "      <td>530219.0</td>\n",
       "      <td>172463.0</td>\n",
       "      <td>-0.127949</td>\n",
       "      <td>51.436208</td>\n",
       "      <td>1</td>\n",
       "      <td>3</td>\n",
       "      <td>2</td>\n",
       "      <td>1</td>\n",
       "      <td>15/01/2019</td>\n",
       "      <td>...</td>\n",
       "      <td>-1</td>\n",
       "      <td>-1</td>\n",
       "      <td>4</td>\n",
       "      <td>1</td>\n",
       "      <td>1</td>\n",
       "      <td>0</td>\n",
       "      <td>0</td>\n",
       "      <td>1</td>\n",
       "      <td>3</td>\n",
       "      <td>E01003117</td>\n",
       "    </tr>\n",
       "    <tr>\n",
       "      <th>2</th>\n",
       "      <td>2019010155191</td>\n",
       "      <td>530222.0</td>\n",
       "      <td>182543.0</td>\n",
       "      <td>-0.124193</td>\n",
       "      <td>51.526795</td>\n",
       "      <td>1</td>\n",
       "      <td>3</td>\n",
       "      <td>2</td>\n",
       "      <td>1</td>\n",
       "      <td>01/01/2019</td>\n",
       "      <td>...</td>\n",
       "      <td>0</td>\n",
       "      <td>0</td>\n",
       "      <td>4</td>\n",
       "      <td>1</td>\n",
       "      <td>1</td>\n",
       "      <td>0</td>\n",
       "      <td>0</td>\n",
       "      <td>1</td>\n",
       "      <td>1</td>\n",
       "      <td>E01000943</td>\n",
       "    </tr>\n",
       "    <tr>\n",
       "      <th>3</th>\n",
       "      <td>2019010155192</td>\n",
       "      <td>525531.0</td>\n",
       "      <td>184605.0</td>\n",
       "      <td>-0.191044</td>\n",
       "      <td>51.546387</td>\n",
       "      <td>1</td>\n",
       "      <td>2</td>\n",
       "      <td>1</td>\n",
       "      <td>1</td>\n",
       "      <td>01/01/2019</td>\n",
       "      <td>...</td>\n",
       "      <td>0</td>\n",
       "      <td>0</td>\n",
       "      <td>4</td>\n",
       "      <td>1</td>\n",
       "      <td>1</td>\n",
       "      <td>0</td>\n",
       "      <td>0</td>\n",
       "      <td>1</td>\n",
       "      <td>1</td>\n",
       "      <td>E01000973</td>\n",
       "    </tr>\n",
       "    <tr>\n",
       "      <th>4</th>\n",
       "      <td>2019010155194</td>\n",
       "      <td>524920.0</td>\n",
       "      <td>184004.0</td>\n",
       "      <td>-0.200064</td>\n",
       "      <td>51.541121</td>\n",
       "      <td>1</td>\n",
       "      <td>3</td>\n",
       "      <td>2</td>\n",
       "      <td>2</td>\n",
       "      <td>01/01/2019</td>\n",
       "      <td>...</td>\n",
       "      <td>0</td>\n",
       "      <td>0</td>\n",
       "      <td>4</td>\n",
       "      <td>1</td>\n",
       "      <td>1</td>\n",
       "      <td>0</td>\n",
       "      <td>0</td>\n",
       "      <td>1</td>\n",
       "      <td>1</td>\n",
       "      <td>E01000546</td>\n",
       "    </tr>\n",
       "  </tbody>\n",
       "</table>\n",
       "<p>5 rows × 32 columns</p>\n",
       "</div>"
      ],
      "text/plain": [
       "  Accident_Index  Location_Easting_OSGR  Location_Northing_OSGR  Longitude  \\\n",
       "0  2019010128300               528218.0                180407.0  -0.153842   \n",
       "1  2019010152270               530219.0                172463.0  -0.127949   \n",
       "2  2019010155191               530222.0                182543.0  -0.124193   \n",
       "3  2019010155192               525531.0                184605.0  -0.191044   \n",
       "4  2019010155194               524920.0                184004.0  -0.200064   \n",
       "\n",
       "    Latitude  Police_Force  Accident_Severity  Number_of_Vehicles  \\\n",
       "0  51.508057             1                  3                   2   \n",
       "1  51.436208             1                  3                   2   \n",
       "2  51.526795             1                  3                   2   \n",
       "3  51.546387             1                  2                   1   \n",
       "4  51.541121             1                  3                   2   \n",
       "\n",
       "   Number_of_Casualties        Date  ...  Pedestrian_Crossing-Human_Control  \\\n",
       "0                     3  18/02/2019  ...                                  0   \n",
       "1                     1  15/01/2019  ...                                 -1   \n",
       "2                     1  01/01/2019  ...                                  0   \n",
       "3                     1  01/01/2019  ...                                  0   \n",
       "4                     2  01/01/2019  ...                                  0   \n",
       "\n",
       "  Pedestrian_Crossing-Physical_Facilities  Light_Conditions  \\\n",
       "0                                       5                 1   \n",
       "1                                      -1                 4   \n",
       "2                                       0                 4   \n",
       "3                                       0                 4   \n",
       "4                                       0                 4   \n",
       "\n",
       "  Weather_Conditions  Road_Surface_Conditions  Special_Conditions_at_Site  \\\n",
       "0                  1                        1                           0   \n",
       "1                  1                        1                           0   \n",
       "2                  1                        1                           0   \n",
       "3                  1                        1                           0   \n",
       "4                  1                        1                           0   \n",
       "\n",
       "   Carriageway_Hazards  Urban_or_Rural_Area  \\\n",
       "0                    0                    1   \n",
       "1                    0                    1   \n",
       "2                    0                    1   \n",
       "3                    0                    1   \n",
       "4                    0                    1   \n",
       "\n",
       "   Did_Police_Officer_Attend_Scene_of_Accident  LSOA_of_Accident_Location  \n",
       "0                                            3                  E01004762  \n",
       "1                                            3                  E01003117  \n",
       "2                                            1                  E01000943  \n",
       "3                                            1                  E01000973  \n",
       "4                                            1                  E01000546  \n",
       "\n",
       "[5 rows x 32 columns]"
      ]
     },
     "execution_count": 5,
     "metadata": {},
     "output_type": "execute_result"
    }
   ],
   "source": [
    "accident.head()"
   ]
  },
  {
   "cell_type": "code",
   "execution_count": 6,
   "metadata": {},
   "outputs": [
    {
     "name": "stdout",
     "output_type": "stream",
     "text": [
      "<class 'pandas.core.frame.DataFrame'>\n",
      "RangeIndex: 117536 entries, 0 to 117535\n",
      "Data columns (total 32 columns):\n",
      " #   Column                                       Non-Null Count   Dtype  \n",
      "---  ------                                       --------------   -----  \n",
      " 0   Accident_Index                               117536 non-null  object \n",
      " 1   Location_Easting_OSGR                        117508 non-null  float64\n",
      " 2   Location_Northing_OSGR                       117508 non-null  float64\n",
      " 3   Longitude                                    117508 non-null  float64\n",
      " 4   Latitude                                     117508 non-null  float64\n",
      " 5   Police_Force                                 117536 non-null  int64  \n",
      " 6   Accident_Severity                            117536 non-null  int64  \n",
      " 7   Number_of_Vehicles                           117536 non-null  int64  \n",
      " 8   Number_of_Casualties                         117536 non-null  int64  \n",
      " 9   Date                                         117536 non-null  object \n",
      " 10  Day_of_Week                                  117536 non-null  int64  \n",
      " 11  Time                                         117473 non-null  object \n",
      " 12  Local_Authority_(District)                   117536 non-null  int64  \n",
      " 13  Local_Authority_(Highway)                    117536 non-null  object \n",
      " 14  1st_Road_Class                               117536 non-null  int64  \n",
      " 15  1st_Road_Number                              117536 non-null  int64  \n",
      " 16  Road_Type                                    117536 non-null  int64  \n",
      " 17  Speed_limit                                  117536 non-null  int64  \n",
      " 18  Junction_Detail                              117536 non-null  int64  \n",
      " 19  Junction_Control                             117536 non-null  int64  \n",
      " 20  2nd_Road_Class                               117536 non-null  int64  \n",
      " 21  2nd_Road_Number                              117536 non-null  int64  \n",
      " 22  Pedestrian_Crossing-Human_Control            117536 non-null  int64  \n",
      " 23  Pedestrian_Crossing-Physical_Facilities      117536 non-null  int64  \n",
      " 24  Light_Conditions                             117536 non-null  int64  \n",
      " 25  Weather_Conditions                           117536 non-null  int64  \n",
      " 26  Road_Surface_Conditions                      117536 non-null  int64  \n",
      " 27  Special_Conditions_at_Site                   117536 non-null  int64  \n",
      " 28  Carriageway_Hazards                          117536 non-null  int64  \n",
      " 29  Urban_or_Rural_Area                          117536 non-null  int64  \n",
      " 30  Did_Police_Officer_Attend_Scene_of_Accident  117536 non-null  int64  \n",
      " 31  LSOA_of_Accident_Location                    111822 non-null  object \n",
      "dtypes: float64(4), int64(23), object(5)\n",
      "memory usage: 28.7+ MB\n"
     ]
    }
   ],
   "source": [
    "accident.info()"
   ]
  },
  {
   "cell_type": "code",
   "execution_count": 7,
   "metadata": {},
   "outputs": [
    {
     "data": {
      "text/html": [
       "<div>\n",
       "<style scoped>\n",
       "    .dataframe tbody tr th:only-of-type {\n",
       "        vertical-align: middle;\n",
       "    }\n",
       "\n",
       "    .dataframe tbody tr th {\n",
       "        vertical-align: top;\n",
       "    }\n",
       "\n",
       "    .dataframe thead th {\n",
       "        text-align: right;\n",
       "    }\n",
       "</style>\n",
       "<table border=\"1\" class=\"dataframe\">\n",
       "  <thead>\n",
       "    <tr style=\"text-align: right;\">\n",
       "      <th></th>\n",
       "      <th>Accident_Index</th>\n",
       "      <th>Vehicle_Reference</th>\n",
       "      <th>Casualty_Reference</th>\n",
       "      <th>Casualty_Class</th>\n",
       "      <th>Sex_of_Casualty</th>\n",
       "      <th>Age_of_Casualty</th>\n",
       "      <th>Age_Band_of_Casualty</th>\n",
       "      <th>Casualty_Severity</th>\n",
       "      <th>Pedestrian_Location</th>\n",
       "      <th>Pedestrian_Movement</th>\n",
       "      <th>Car_Passenger</th>\n",
       "      <th>Bus_or_Coach_Passenger</th>\n",
       "      <th>Pedestrian_Road_Maintenance_Worker</th>\n",
       "      <th>Casualty_Type</th>\n",
       "      <th>Casualty_Home_Area_Type</th>\n",
       "      <th>Casualty_IMD_Decile</th>\n",
       "    </tr>\n",
       "  </thead>\n",
       "  <tbody>\n",
       "    <tr>\n",
       "      <th>0</th>\n",
       "      <td>2019010128300</td>\n",
       "      <td>1</td>\n",
       "      <td>1</td>\n",
       "      <td>1</td>\n",
       "      <td>1</td>\n",
       "      <td>58</td>\n",
       "      <td>9</td>\n",
       "      <td>3</td>\n",
       "      <td>0</td>\n",
       "      <td>0</td>\n",
       "      <td>0</td>\n",
       "      <td>0</td>\n",
       "      <td>0</td>\n",
       "      <td>9</td>\n",
       "      <td>1</td>\n",
       "      <td>2</td>\n",
       "    </tr>\n",
       "    <tr>\n",
       "      <th>1</th>\n",
       "      <td>2019010128300</td>\n",
       "      <td>1</td>\n",
       "      <td>2</td>\n",
       "      <td>2</td>\n",
       "      <td>2</td>\n",
       "      <td>-1</td>\n",
       "      <td>-1</td>\n",
       "      <td>3</td>\n",
       "      <td>0</td>\n",
       "      <td>0</td>\n",
       "      <td>1</td>\n",
       "      <td>0</td>\n",
       "      <td>0</td>\n",
       "      <td>9</td>\n",
       "      <td>1</td>\n",
       "      <td>5</td>\n",
       "    </tr>\n",
       "    <tr>\n",
       "      <th>2</th>\n",
       "      <td>2019010128300</td>\n",
       "      <td>1</td>\n",
       "      <td>3</td>\n",
       "      <td>2</td>\n",
       "      <td>2</td>\n",
       "      <td>-1</td>\n",
       "      <td>-1</td>\n",
       "      <td>3</td>\n",
       "      <td>0</td>\n",
       "      <td>0</td>\n",
       "      <td>2</td>\n",
       "      <td>0</td>\n",
       "      <td>0</td>\n",
       "      <td>9</td>\n",
       "      <td>1</td>\n",
       "      <td>5</td>\n",
       "    </tr>\n",
       "    <tr>\n",
       "      <th>3</th>\n",
       "      <td>2019010152270</td>\n",
       "      <td>1</td>\n",
       "      <td>1</td>\n",
       "      <td>1</td>\n",
       "      <td>2</td>\n",
       "      <td>24</td>\n",
       "      <td>5</td>\n",
       "      <td>3</td>\n",
       "      <td>0</td>\n",
       "      <td>0</td>\n",
       "      <td>0</td>\n",
       "      <td>0</td>\n",
       "      <td>0</td>\n",
       "      <td>9</td>\n",
       "      <td>1</td>\n",
       "      <td>3</td>\n",
       "    </tr>\n",
       "    <tr>\n",
       "      <th>4</th>\n",
       "      <td>2019010155191</td>\n",
       "      <td>2</td>\n",
       "      <td>1</td>\n",
       "      <td>2</td>\n",
       "      <td>2</td>\n",
       "      <td>21</td>\n",
       "      <td>5</td>\n",
       "      <td>3</td>\n",
       "      <td>0</td>\n",
       "      <td>0</td>\n",
       "      <td>0</td>\n",
       "      <td>0</td>\n",
       "      <td>0</td>\n",
       "      <td>1</td>\n",
       "      <td>1</td>\n",
       "      <td>1</td>\n",
       "    </tr>\n",
       "  </tbody>\n",
       "</table>\n",
       "</div>"
      ],
      "text/plain": [
       "  Accident_Index  Vehicle_Reference  Casualty_Reference  Casualty_Class  \\\n",
       "0  2019010128300                  1                   1               1   \n",
       "1  2019010128300                  1                   2               2   \n",
       "2  2019010128300                  1                   3               2   \n",
       "3  2019010152270                  1                   1               1   \n",
       "4  2019010155191                  2                   1               2   \n",
       "\n",
       "   Sex_of_Casualty  Age_of_Casualty  Age_Band_of_Casualty  Casualty_Severity  \\\n",
       "0                1               58                     9                  3   \n",
       "1                2               -1                    -1                  3   \n",
       "2                2               -1                    -1                  3   \n",
       "3                2               24                     5                  3   \n",
       "4                2               21                     5                  3   \n",
       "\n",
       "   Pedestrian_Location  Pedestrian_Movement  Car_Passenger  \\\n",
       "0                    0                    0              0   \n",
       "1                    0                    0              1   \n",
       "2                    0                    0              2   \n",
       "3                    0                    0              0   \n",
       "4                    0                    0              0   \n",
       "\n",
       "   Bus_or_Coach_Passenger  Pedestrian_Road_Maintenance_Worker  Casualty_Type  \\\n",
       "0                       0                                   0              9   \n",
       "1                       0                                   0              9   \n",
       "2                       0                                   0              9   \n",
       "3                       0                                   0              9   \n",
       "4                       0                                   0              1   \n",
       "\n",
       "   Casualty_Home_Area_Type  Casualty_IMD_Decile  \n",
       "0                        1                    2  \n",
       "1                        1                    5  \n",
       "2                        1                    5  \n",
       "3                        1                    3  \n",
       "4                        1                    1  "
      ]
     },
     "execution_count": 7,
     "metadata": {},
     "output_type": "execute_result"
    }
   ],
   "source": [
    "casualities.head()"
   ]
  },
  {
   "cell_type": "code",
   "execution_count": 8,
   "metadata": {},
   "outputs": [
    {
     "name": "stdout",
     "output_type": "stream",
     "text": [
      "<class 'pandas.core.frame.DataFrame'>\n",
      "RangeIndex: 153158 entries, 0 to 153157\n",
      "Data columns (total 16 columns):\n",
      " #   Column                              Non-Null Count   Dtype \n",
      "---  ------                              --------------   ----- \n",
      " 0   Accident_Index                      153158 non-null  object\n",
      " 1   Vehicle_Reference                   153158 non-null  int64 \n",
      " 2   Casualty_Reference                  153158 non-null  int64 \n",
      " 3   Casualty_Class                      153158 non-null  int64 \n",
      " 4   Sex_of_Casualty                     153158 non-null  int64 \n",
      " 5   Age_of_Casualty                     153158 non-null  int64 \n",
      " 6   Age_Band_of_Casualty                153158 non-null  int64 \n",
      " 7   Casualty_Severity                   153158 non-null  int64 \n",
      " 8   Pedestrian_Location                 153158 non-null  int64 \n",
      " 9   Pedestrian_Movement                 153158 non-null  int64 \n",
      " 10  Car_Passenger                       153158 non-null  int64 \n",
      " 11  Bus_or_Coach_Passenger              153158 non-null  int64 \n",
      " 12  Pedestrian_Road_Maintenance_Worker  153158 non-null  int64 \n",
      " 13  Casualty_Type                       153158 non-null  int64 \n",
      " 14  Casualty_Home_Area_Type             153158 non-null  int64 \n",
      " 15  Casualty_IMD_Decile                 153158 non-null  int64 \n",
      "dtypes: int64(15), object(1)\n",
      "memory usage: 18.7+ MB\n"
     ]
    }
   ],
   "source": [
    "casualities.info()"
   ]
  },
  {
   "cell_type": "code",
   "execution_count": 9,
   "metadata": {},
   "outputs": [
    {
     "data": {
      "text/html": [
       "<div>\n",
       "<style scoped>\n",
       "    .dataframe tbody tr th:only-of-type {\n",
       "        vertical-align: middle;\n",
       "    }\n",
       "\n",
       "    .dataframe tbody tr th {\n",
       "        vertical-align: top;\n",
       "    }\n",
       "\n",
       "    .dataframe thead th {\n",
       "        text-align: right;\n",
       "    }\n",
       "</style>\n",
       "<table border=\"1\" class=\"dataframe\">\n",
       "  <thead>\n",
       "    <tr style=\"text-align: right;\">\n",
       "      <th></th>\n",
       "      <th>Accident_Index</th>\n",
       "      <th>Vehicle_Reference</th>\n",
       "      <th>Vehicle_Type</th>\n",
       "      <th>Towing_and_Articulation</th>\n",
       "      <th>Vehicle_Manoeuvre</th>\n",
       "      <th>Vehicle_Location-Restricted_Lane</th>\n",
       "      <th>Junction_Location</th>\n",
       "      <th>Skidding_and_Overturning</th>\n",
       "      <th>Hit_Object_in_Carriageway</th>\n",
       "      <th>Vehicle_Leaving_Carriageway</th>\n",
       "      <th>...</th>\n",
       "      <th>Journey_Purpose_of_Driver</th>\n",
       "      <th>Sex_of_Driver</th>\n",
       "      <th>Age_of_Driver</th>\n",
       "      <th>Age_Band_of_Driver</th>\n",
       "      <th>Engine_Capacity_(CC)</th>\n",
       "      <th>Propulsion_Code</th>\n",
       "      <th>Age_of_Vehicle</th>\n",
       "      <th>Driver_IMD_Decile</th>\n",
       "      <th>Driver_Home_Area_Type</th>\n",
       "      <th>Vehicle_IMD_Decile</th>\n",
       "    </tr>\n",
       "  </thead>\n",
       "  <tbody>\n",
       "    <tr>\n",
       "      <th>0</th>\n",
       "      <td>2019010128300</td>\n",
       "      <td>1</td>\n",
       "      <td>9</td>\n",
       "      <td>0</td>\n",
       "      <td>-1</td>\n",
       "      <td>-1</td>\n",
       "      <td>-1</td>\n",
       "      <td>-1</td>\n",
       "      <td>-1</td>\n",
       "      <td>-1</td>\n",
       "      <td>...</td>\n",
       "      <td>6</td>\n",
       "      <td>1</td>\n",
       "      <td>58</td>\n",
       "      <td>9</td>\n",
       "      <td>-1</td>\n",
       "      <td>-1</td>\n",
       "      <td>-1</td>\n",
       "      <td>2</td>\n",
       "      <td>1</td>\n",
       "      <td>2</td>\n",
       "    </tr>\n",
       "    <tr>\n",
       "      <th>1</th>\n",
       "      <td>2019010128300</td>\n",
       "      <td>2</td>\n",
       "      <td>9</td>\n",
       "      <td>0</td>\n",
       "      <td>-1</td>\n",
       "      <td>-1</td>\n",
       "      <td>-1</td>\n",
       "      <td>-1</td>\n",
       "      <td>-1</td>\n",
       "      <td>-1</td>\n",
       "      <td>...</td>\n",
       "      <td>6</td>\n",
       "      <td>3</td>\n",
       "      <td>-1</td>\n",
       "      <td>-1</td>\n",
       "      <td>-1</td>\n",
       "      <td>-1</td>\n",
       "      <td>-1</td>\n",
       "      <td>2</td>\n",
       "      <td>1</td>\n",
       "      <td>2</td>\n",
       "    </tr>\n",
       "    <tr>\n",
       "      <th>2</th>\n",
       "      <td>2019010152270</td>\n",
       "      <td>1</td>\n",
       "      <td>9</td>\n",
       "      <td>0</td>\n",
       "      <td>18</td>\n",
       "      <td>-1</td>\n",
       "      <td>0</td>\n",
       "      <td>-1</td>\n",
       "      <td>-1</td>\n",
       "      <td>-1</td>\n",
       "      <td>...</td>\n",
       "      <td>6</td>\n",
       "      <td>2</td>\n",
       "      <td>24</td>\n",
       "      <td>5</td>\n",
       "      <td>-1</td>\n",
       "      <td>-1</td>\n",
       "      <td>-1</td>\n",
       "      <td>3</td>\n",
       "      <td>1</td>\n",
       "      <td>3</td>\n",
       "    </tr>\n",
       "    <tr>\n",
       "      <th>3</th>\n",
       "      <td>2019010152270</td>\n",
       "      <td>2</td>\n",
       "      <td>9</td>\n",
       "      <td>0</td>\n",
       "      <td>18</td>\n",
       "      <td>-1</td>\n",
       "      <td>0</td>\n",
       "      <td>-1</td>\n",
       "      <td>-1</td>\n",
       "      <td>-1</td>\n",
       "      <td>...</td>\n",
       "      <td>6</td>\n",
       "      <td>3</td>\n",
       "      <td>-1</td>\n",
       "      <td>-1</td>\n",
       "      <td>-1</td>\n",
       "      <td>-1</td>\n",
       "      <td>-1</td>\n",
       "      <td>6</td>\n",
       "      <td>1</td>\n",
       "      <td>6</td>\n",
       "    </tr>\n",
       "    <tr>\n",
       "      <th>4</th>\n",
       "      <td>2019010155191</td>\n",
       "      <td>1</td>\n",
       "      <td>9</td>\n",
       "      <td>0</td>\n",
       "      <td>3</td>\n",
       "      <td>0</td>\n",
       "      <td>1</td>\n",
       "      <td>0</td>\n",
       "      <td>0</td>\n",
       "      <td>0</td>\n",
       "      <td>...</td>\n",
       "      <td>6</td>\n",
       "      <td>1</td>\n",
       "      <td>45</td>\n",
       "      <td>7</td>\n",
       "      <td>-1</td>\n",
       "      <td>-1</td>\n",
       "      <td>-1</td>\n",
       "      <td>4</td>\n",
       "      <td>1</td>\n",
       "      <td>4</td>\n",
       "    </tr>\n",
       "  </tbody>\n",
       "</table>\n",
       "<p>5 rows × 23 columns</p>\n",
       "</div>"
      ],
      "text/plain": [
       "  Accident_Index  Vehicle_Reference  Vehicle_Type  Towing_and_Articulation  \\\n",
       "0  2019010128300                  1             9                        0   \n",
       "1  2019010128300                  2             9                        0   \n",
       "2  2019010152270                  1             9                        0   \n",
       "3  2019010152270                  2             9                        0   \n",
       "4  2019010155191                  1             9                        0   \n",
       "\n",
       "   Vehicle_Manoeuvre  Vehicle_Location-Restricted_Lane  Junction_Location  \\\n",
       "0                 -1                                -1                 -1   \n",
       "1                 -1                                -1                 -1   \n",
       "2                 18                                -1                  0   \n",
       "3                 18                                -1                  0   \n",
       "4                  3                                 0                  1   \n",
       "\n",
       "   Skidding_and_Overturning  Hit_Object_in_Carriageway  \\\n",
       "0                        -1                         -1   \n",
       "1                        -1                         -1   \n",
       "2                        -1                         -1   \n",
       "3                        -1                         -1   \n",
       "4                         0                          0   \n",
       "\n",
       "   Vehicle_Leaving_Carriageway  ...  Journey_Purpose_of_Driver  Sex_of_Driver  \\\n",
       "0                           -1  ...                          6              1   \n",
       "1                           -1  ...                          6              3   \n",
       "2                           -1  ...                          6              2   \n",
       "3                           -1  ...                          6              3   \n",
       "4                            0  ...                          6              1   \n",
       "\n",
       "   Age_of_Driver  Age_Band_of_Driver  Engine_Capacity_(CC)  Propulsion_Code  \\\n",
       "0             58                   9                    -1               -1   \n",
       "1             -1                  -1                    -1               -1   \n",
       "2             24                   5                    -1               -1   \n",
       "3             -1                  -1                    -1               -1   \n",
       "4             45                   7                    -1               -1   \n",
       "\n",
       "   Age_of_Vehicle  Driver_IMD_Decile  Driver_Home_Area_Type  \\\n",
       "0              -1                  2                      1   \n",
       "1              -1                  2                      1   \n",
       "2              -1                  3                      1   \n",
       "3              -1                  6                      1   \n",
       "4              -1                  4                      1   \n",
       "\n",
       "   Vehicle_IMD_Decile  \n",
       "0                   2  \n",
       "1                   2  \n",
       "2                   3  \n",
       "3                   6  \n",
       "4                   4  \n",
       "\n",
       "[5 rows x 23 columns]"
      ]
     },
     "execution_count": 9,
     "metadata": {},
     "output_type": "execute_result"
    }
   ],
   "source": [
    "vehicles.head()"
   ]
  },
  {
   "cell_type": "code",
   "execution_count": 10,
   "metadata": {},
   "outputs": [
    {
     "name": "stdout",
     "output_type": "stream",
     "text": [
      "<class 'pandas.core.frame.DataFrame'>\n",
      "RangeIndex: 216381 entries, 0 to 216380\n",
      "Data columns (total 23 columns):\n",
      " #   Column                            Non-Null Count   Dtype \n",
      "---  ------                            --------------   ----- \n",
      " 0   Accident_Index                    216381 non-null  object\n",
      " 1   Vehicle_Reference                 216381 non-null  int64 \n",
      " 2   Vehicle_Type                      216381 non-null  int64 \n",
      " 3   Towing_and_Articulation           216381 non-null  int64 \n",
      " 4   Vehicle_Manoeuvre                 216381 non-null  int64 \n",
      " 5   Vehicle_Location-Restricted_Lane  216381 non-null  int64 \n",
      " 6   Junction_Location                 216381 non-null  int64 \n",
      " 7   Skidding_and_Overturning          216381 non-null  int64 \n",
      " 8   Hit_Object_in_Carriageway         216381 non-null  int64 \n",
      " 9   Vehicle_Leaving_Carriageway       216381 non-null  int64 \n",
      " 10  Hit_Object_off_Carriageway        216381 non-null  int64 \n",
      " 11  1st_Point_of_Impact               216381 non-null  int64 \n",
      " 12  Was_Vehicle_Left_Hand_Drive?      216381 non-null  int64 \n",
      " 13  Journey_Purpose_of_Driver         216381 non-null  int64 \n",
      " 14  Sex_of_Driver                     216381 non-null  int64 \n",
      " 15  Age_of_Driver                     216381 non-null  int64 \n",
      " 16  Age_Band_of_Driver                216381 non-null  int64 \n",
      " 17  Engine_Capacity_(CC)              216381 non-null  int64 \n",
      " 18  Propulsion_Code                   216381 non-null  int64 \n",
      " 19  Age_of_Vehicle                    216381 non-null  int64 \n",
      " 20  Driver_IMD_Decile                 216381 non-null  int64 \n",
      " 21  Driver_Home_Area_Type             216381 non-null  int64 \n",
      " 22  Vehicle_IMD_Decile                216381 non-null  int64 \n",
      "dtypes: int64(22), object(1)\n",
      "memory usage: 38.0+ MB\n"
     ]
    }
   ],
   "source": [
    "vehicles.info()"
   ]
  },
  {
   "cell_type": "markdown",
   "metadata": {},
   "source": [
    "# Merging Dataframe"
   ]
  },
  {
   "cell_type": "code",
   "execution_count": 11,
   "metadata": {},
   "outputs": [],
   "source": [
    "merged_df = vehicles.merge(casualities, on ='Accident_Index')"
   ]
  },
  {
   "cell_type": "code",
   "execution_count": 12,
   "metadata": {},
   "outputs": [],
   "source": [
    "d_frame = merged_df.merge(accident, on = 'Accident_Index')"
   ]
  },
  {
   "cell_type": "code",
   "execution_count": 13,
   "metadata": {},
   "outputs": [
    {
     "data": {
      "text/plain": [
       "(210440, 69)"
      ]
     },
     "execution_count": 13,
     "metadata": {},
     "output_type": "execute_result"
    }
   ],
   "source": [
    "d_frame.shape"
   ]
  },
  {
   "cell_type": "code",
   "execution_count": 14,
   "metadata": {},
   "outputs": [
    {
     "data": {
      "text/html": [
       "<div>\n",
       "<style scoped>\n",
       "    .dataframe tbody tr th:only-of-type {\n",
       "        vertical-align: middle;\n",
       "    }\n",
       "\n",
       "    .dataframe tbody tr th {\n",
       "        vertical-align: top;\n",
       "    }\n",
       "\n",
       "    .dataframe thead th {\n",
       "        text-align: right;\n",
       "    }\n",
       "</style>\n",
       "<table border=\"1\" class=\"dataframe\">\n",
       "  <thead>\n",
       "    <tr style=\"text-align: right;\">\n",
       "      <th></th>\n",
       "      <th>Accident_Index</th>\n",
       "      <th>Vehicle_Reference_x</th>\n",
       "      <th>Vehicle_Type</th>\n",
       "      <th>Towing_and_Articulation</th>\n",
       "      <th>Vehicle_Manoeuvre</th>\n",
       "      <th>Vehicle_Location-Restricted_Lane</th>\n",
       "      <th>Junction_Location</th>\n",
       "      <th>Skidding_and_Overturning</th>\n",
       "      <th>Hit_Object_in_Carriageway</th>\n",
       "      <th>Vehicle_Leaving_Carriageway</th>\n",
       "      <th>...</th>\n",
       "      <th>Pedestrian_Crossing-Human_Control</th>\n",
       "      <th>Pedestrian_Crossing-Physical_Facilities</th>\n",
       "      <th>Light_Conditions</th>\n",
       "      <th>Weather_Conditions</th>\n",
       "      <th>Road_Surface_Conditions</th>\n",
       "      <th>Special_Conditions_at_Site</th>\n",
       "      <th>Carriageway_Hazards</th>\n",
       "      <th>Urban_or_Rural_Area</th>\n",
       "      <th>Did_Police_Officer_Attend_Scene_of_Accident</th>\n",
       "      <th>LSOA_of_Accident_Location</th>\n",
       "    </tr>\n",
       "  </thead>\n",
       "  <tbody>\n",
       "    <tr>\n",
       "      <th>0</th>\n",
       "      <td>2019010128300</td>\n",
       "      <td>1</td>\n",
       "      <td>9</td>\n",
       "      <td>0</td>\n",
       "      <td>-1</td>\n",
       "      <td>-1</td>\n",
       "      <td>-1</td>\n",
       "      <td>-1</td>\n",
       "      <td>-1</td>\n",
       "      <td>-1</td>\n",
       "      <td>...</td>\n",
       "      <td>0</td>\n",
       "      <td>5</td>\n",
       "      <td>1</td>\n",
       "      <td>1</td>\n",
       "      <td>1</td>\n",
       "      <td>0</td>\n",
       "      <td>0</td>\n",
       "      <td>1</td>\n",
       "      <td>3</td>\n",
       "      <td>E01004762</td>\n",
       "    </tr>\n",
       "    <tr>\n",
       "      <th>1</th>\n",
       "      <td>2019010128300</td>\n",
       "      <td>1</td>\n",
       "      <td>9</td>\n",
       "      <td>0</td>\n",
       "      <td>-1</td>\n",
       "      <td>-1</td>\n",
       "      <td>-1</td>\n",
       "      <td>-1</td>\n",
       "      <td>-1</td>\n",
       "      <td>-1</td>\n",
       "      <td>...</td>\n",
       "      <td>0</td>\n",
       "      <td>5</td>\n",
       "      <td>1</td>\n",
       "      <td>1</td>\n",
       "      <td>1</td>\n",
       "      <td>0</td>\n",
       "      <td>0</td>\n",
       "      <td>1</td>\n",
       "      <td>3</td>\n",
       "      <td>E01004762</td>\n",
       "    </tr>\n",
       "    <tr>\n",
       "      <th>2</th>\n",
       "      <td>2019010128300</td>\n",
       "      <td>1</td>\n",
       "      <td>9</td>\n",
       "      <td>0</td>\n",
       "      <td>-1</td>\n",
       "      <td>-1</td>\n",
       "      <td>-1</td>\n",
       "      <td>-1</td>\n",
       "      <td>-1</td>\n",
       "      <td>-1</td>\n",
       "      <td>...</td>\n",
       "      <td>0</td>\n",
       "      <td>5</td>\n",
       "      <td>1</td>\n",
       "      <td>1</td>\n",
       "      <td>1</td>\n",
       "      <td>0</td>\n",
       "      <td>0</td>\n",
       "      <td>1</td>\n",
       "      <td>3</td>\n",
       "      <td>E01004762</td>\n",
       "    </tr>\n",
       "    <tr>\n",
       "      <th>3</th>\n",
       "      <td>2019010128300</td>\n",
       "      <td>2</td>\n",
       "      <td>9</td>\n",
       "      <td>0</td>\n",
       "      <td>-1</td>\n",
       "      <td>-1</td>\n",
       "      <td>-1</td>\n",
       "      <td>-1</td>\n",
       "      <td>-1</td>\n",
       "      <td>-1</td>\n",
       "      <td>...</td>\n",
       "      <td>0</td>\n",
       "      <td>5</td>\n",
       "      <td>1</td>\n",
       "      <td>1</td>\n",
       "      <td>1</td>\n",
       "      <td>0</td>\n",
       "      <td>0</td>\n",
       "      <td>1</td>\n",
       "      <td>3</td>\n",
       "      <td>E01004762</td>\n",
       "    </tr>\n",
       "    <tr>\n",
       "      <th>4</th>\n",
       "      <td>2019010128300</td>\n",
       "      <td>2</td>\n",
       "      <td>9</td>\n",
       "      <td>0</td>\n",
       "      <td>-1</td>\n",
       "      <td>-1</td>\n",
       "      <td>-1</td>\n",
       "      <td>-1</td>\n",
       "      <td>-1</td>\n",
       "      <td>-1</td>\n",
       "      <td>...</td>\n",
       "      <td>0</td>\n",
       "      <td>5</td>\n",
       "      <td>1</td>\n",
       "      <td>1</td>\n",
       "      <td>1</td>\n",
       "      <td>0</td>\n",
       "      <td>0</td>\n",
       "      <td>1</td>\n",
       "      <td>3</td>\n",
       "      <td>E01004762</td>\n",
       "    </tr>\n",
       "  </tbody>\n",
       "</table>\n",
       "<p>5 rows × 69 columns</p>\n",
       "</div>"
      ],
      "text/plain": [
       "  Accident_Index  Vehicle_Reference_x  Vehicle_Type  Towing_and_Articulation  \\\n",
       "0  2019010128300                    1             9                        0   \n",
       "1  2019010128300                    1             9                        0   \n",
       "2  2019010128300                    1             9                        0   \n",
       "3  2019010128300                    2             9                        0   \n",
       "4  2019010128300                    2             9                        0   \n",
       "\n",
       "   Vehicle_Manoeuvre  Vehicle_Location-Restricted_Lane  Junction_Location  \\\n",
       "0                 -1                                -1                 -1   \n",
       "1                 -1                                -1                 -1   \n",
       "2                 -1                                -1                 -1   \n",
       "3                 -1                                -1                 -1   \n",
       "4                 -1                                -1                 -1   \n",
       "\n",
       "   Skidding_and_Overturning  Hit_Object_in_Carriageway  \\\n",
       "0                        -1                         -1   \n",
       "1                        -1                         -1   \n",
       "2                        -1                         -1   \n",
       "3                        -1                         -1   \n",
       "4                        -1                         -1   \n",
       "\n",
       "   Vehicle_Leaving_Carriageway  ...  Pedestrian_Crossing-Human_Control  \\\n",
       "0                           -1  ...                                  0   \n",
       "1                           -1  ...                                  0   \n",
       "2                           -1  ...                                  0   \n",
       "3                           -1  ...                                  0   \n",
       "4                           -1  ...                                  0   \n",
       "\n",
       "   Pedestrian_Crossing-Physical_Facilities  Light_Conditions  \\\n",
       "0                                        5                 1   \n",
       "1                                        5                 1   \n",
       "2                                        5                 1   \n",
       "3                                        5                 1   \n",
       "4                                        5                 1   \n",
       "\n",
       "   Weather_Conditions  Road_Surface_Conditions  Special_Conditions_at_Site  \\\n",
       "0                   1                        1                           0   \n",
       "1                   1                        1                           0   \n",
       "2                   1                        1                           0   \n",
       "3                   1                        1                           0   \n",
       "4                   1                        1                           0   \n",
       "\n",
       "   Carriageway_Hazards  Urban_or_Rural_Area  \\\n",
       "0                    0                    1   \n",
       "1                    0                    1   \n",
       "2                    0                    1   \n",
       "3                    0                    1   \n",
       "4                    0                    1   \n",
       "\n",
       "   Did_Police_Officer_Attend_Scene_of_Accident  LSOA_of_Accident_Location  \n",
       "0                                            3                  E01004762  \n",
       "1                                            3                  E01004762  \n",
       "2                                            3                  E01004762  \n",
       "3                                            3                  E01004762  \n",
       "4                                            3                  E01004762  \n",
       "\n",
       "[5 rows x 69 columns]"
      ]
     },
     "execution_count": 14,
     "metadata": {},
     "output_type": "execute_result"
    }
   ],
   "source": [
    "d_frame.head()"
   ]
  },
  {
   "cell_type": "markdown",
   "metadata": {},
   "source": [
    "# Data Cleaning "
   ]
  },
  {
   "cell_type": "code",
   "execution_count": 15,
   "metadata": {},
   "outputs": [],
   "source": [
    "#changing the accident index to string\n",
    "accident['Accident_Index'] = accident['Accident_Index'].astype(str)\n",
    "vehicles['Accident_Index'] = vehicles['Accident_Index'].astype(str)\n",
    "casualities['Accident_Index'] = casualities['Accident_Index'].astype(str)"
   ]
  },
  {
   "cell_type": "code",
   "execution_count": 16,
   "metadata": {},
   "outputs": [
    {
     "data": {
      "text/plain": [
       "Accident_Index                                    0\n",
       "Location_Easting_OSGR                            28\n",
       "Location_Northing_OSGR                           28\n",
       "Longitude                                        28\n",
       "Latitude                                         28\n",
       "Police_Force                                      0\n",
       "Accident_Severity                                 0\n",
       "Number_of_Vehicles                                0\n",
       "Number_of_Casualties                              0\n",
       "Date                                              0\n",
       "Day_of_Week                                       0\n",
       "Time                                             63\n",
       "Local_Authority_(District)                        0\n",
       "Local_Authority_(Highway)                         0\n",
       "1st_Road_Class                                    0\n",
       "1st_Road_Number                                   0\n",
       "Road_Type                                         0\n",
       "Speed_limit                                       0\n",
       "Junction_Detail                                   0\n",
       "Junction_Control                                  0\n",
       "2nd_Road_Class                                    0\n",
       "2nd_Road_Number                                   0\n",
       "Pedestrian_Crossing-Human_Control                 0\n",
       "Pedestrian_Crossing-Physical_Facilities           0\n",
       "Light_Conditions                                  0\n",
       "Weather_Conditions                                0\n",
       "Road_Surface_Conditions                           0\n",
       "Special_Conditions_at_Site                        0\n",
       "Carriageway_Hazards                               0\n",
       "Urban_or_Rural_Area                               0\n",
       "Did_Police_Officer_Attend_Scene_of_Accident       0\n",
       "LSOA_of_Accident_Location                      5714\n",
       "dtype: int64"
      ]
     },
     "execution_count": 16,
     "metadata": {},
     "output_type": "execute_result"
    }
   ],
   "source": [
    "accident.isnull().sum()"
   ]
  },
  {
   "cell_type": "code",
   "execution_count": 17,
   "metadata": {},
   "outputs": [],
   "source": [
    "accident.drop(columns=[\"LSOA_of_Accident_Location\",\"Location_Easting_OSGR\",\"Location_Northing_OSGR\"], axis = 1, inplace = True)"
   ]
  },
  {
   "cell_type": "code",
   "execution_count": 18,
   "metadata": {},
   "outputs": [
    {
     "data": {
      "text/plain": [
       "Accident_Index                      0\n",
       "Vehicle_Reference                   0\n",
       "Vehicle_Type                        0\n",
       "Towing_and_Articulation             0\n",
       "Vehicle_Manoeuvre                   0\n",
       "Vehicle_Location-Restricted_Lane    0\n",
       "Junction_Location                   0\n",
       "Skidding_and_Overturning            0\n",
       "Hit_Object_in_Carriageway           0\n",
       "Vehicle_Leaving_Carriageway         0\n",
       "Hit_Object_off_Carriageway          0\n",
       "1st_Point_of_Impact                 0\n",
       "Was_Vehicle_Left_Hand_Drive?        0\n",
       "Journey_Purpose_of_Driver           0\n",
       "Sex_of_Driver                       0\n",
       "Age_of_Driver                       0\n",
       "Age_Band_of_Driver                  0\n",
       "Engine_Capacity_(CC)                0\n",
       "Propulsion_Code                     0\n",
       "Age_of_Vehicle                      0\n",
       "Driver_IMD_Decile                   0\n",
       "Driver_Home_Area_Type               0\n",
       "Vehicle_IMD_Decile                  0\n",
       "dtype: int64"
      ]
     },
     "execution_count": 18,
     "metadata": {},
     "output_type": "execute_result"
    }
   ],
   "source": [
    "vehicles.isnull().sum()"
   ]
  },
  {
   "cell_type": "code",
   "execution_count": 19,
   "metadata": {},
   "outputs": [
    {
     "data": {
      "text/plain": [
       "Accident_Index                        0\n",
       "Vehicle_Reference                     0\n",
       "Casualty_Reference                    0\n",
       "Casualty_Class                        0\n",
       "Sex_of_Casualty                       0\n",
       "Age_of_Casualty                       0\n",
       "Age_Band_of_Casualty                  0\n",
       "Casualty_Severity                     0\n",
       "Pedestrian_Location                   0\n",
       "Pedestrian_Movement                   0\n",
       "Car_Passenger                         0\n",
       "Bus_or_Coach_Passenger                0\n",
       "Pedestrian_Road_Maintenance_Worker    0\n",
       "Casualty_Type                         0\n",
       "Casualty_Home_Area_Type               0\n",
       "Casualty_IMD_Decile                   0\n",
       "dtype: int64"
      ]
     },
     "execution_count": 19,
     "metadata": {},
     "output_type": "execute_result"
    }
   ],
   "source": [
    "casualities.isnull().sum()"
   ]
  },
  {
   "cell_type": "code",
   "execution_count": 20,
   "metadata": {},
   "outputs": [
    {
     "data": {
      "text/plain": [
       "LSOA_of_Accident_Location             14207\n",
       "Time                                    113\n",
       "Location_Easting_OSGR                    80\n",
       "Location_Northing_OSGR                   80\n",
       "Longitude                                80\n",
       "                                      ...  \n",
       "Casualty_Severity                         0\n",
       "Pedestrian_Location                       0\n",
       "Pedestrian_Movement                       0\n",
       "Car_Passenger                             0\n",
       "Pedestrian_Road_Maintenance_Worker        0\n",
       "Length: 69, dtype: int64"
      ]
     },
     "execution_count": 20,
     "metadata": {},
     "output_type": "execute_result"
    }
   ],
   "source": [
    "d_frame.isnull().sum().sort_values(ascending=False)"
   ]
  },
  {
   "cell_type": "code",
   "execution_count": 21,
   "metadata": {},
   "outputs": [
    {
     "data": {
      "text/plain": [
       "LSOA_of_Accident_Location             14207\n",
       "Time                                    113\n",
       "Location_Easting_OSGR                    80\n",
       "Location_Northing_OSGR                   80\n",
       "Longitude                                80\n",
       "                                      ...  \n",
       "Casualty_Severity                         0\n",
       "Pedestrian_Location                       0\n",
       "Pedestrian_Movement                       0\n",
       "Car_Passenger                             0\n",
       "Pedestrian_Road_Maintenance_Worker        0\n",
       "Length: 69, dtype: int64"
      ]
     },
     "execution_count": 21,
     "metadata": {},
     "output_type": "execute_result"
    }
   ],
   "source": [
    "d_frame.isnull().sum().sort_values(ascending=False)"
   ]
  },
  {
   "cell_type": "code",
   "execution_count": 22,
   "metadata": {},
   "outputs": [],
   "source": [
    "accident['Converted_Time'] = pd.to_datetime(accident['Time'], format = '%H:%M').dt.hour # convert time to the nearest hour"
   ]
  },
  {
   "cell_type": "code",
   "execution_count": 23,
   "metadata": {},
   "outputs": [
    {
     "data": {
      "text/plain": [
       "<bound method Series.mode of 0         17:50\n",
       "1         17:50\n",
       "2         17:50\n",
       "3         17:50\n",
       "4         17:50\n",
       "          ...  \n",
       "210435    08:46\n",
       "210436    15:30\n",
       "210437    15:30\n",
       "210438    14:10\n",
       "210439    12:45\n",
       "Name: Time, Length: 210440, dtype: object>"
      ]
     },
     "execution_count": 23,
     "metadata": {},
     "output_type": "execute_result"
    }
   ],
   "source": [
    "d_frame[\"Time\"].mode"
   ]
  },
  {
   "cell_type": "code",
   "execution_count": 24,
   "metadata": {},
   "outputs": [],
   "source": [
    "d_frame[\"Time\"] = d_frame[\"Time\"].fillna(d_frame[\"Time\"].mode()[0])\n",
    "d_frame[\"Longitude\"] = d_frame[\"Longitude\"].fillna(d_frame[\"Longitude\"].mode()[0])\n",
    "d_frame[\"Latitude\"] = d_frame[\"Latitude\"].fillna(d_frame[\"Latitude\"].mode()[0])"
   ]
  },
  {
   "cell_type": "code",
   "execution_count": 25,
   "metadata": {},
   "outputs": [
    {
     "data": {
      "text/plain": [
       "LSOA_of_Accident_Location             14207\n",
       "Location_Easting_OSGR                    80\n",
       "Location_Northing_OSGR                   80\n",
       "Number_of_Casualties                      0\n",
       "Local_Authority_(Highway)                 0\n",
       "                                      ...  \n",
       "Casualty_Severity                         0\n",
       "Pedestrian_Location                       0\n",
       "Pedestrian_Movement                       0\n",
       "Car_Passenger                             0\n",
       "Pedestrian_Road_Maintenance_Worker        0\n",
       "Length: 69, dtype: int64"
      ]
     },
     "execution_count": 25,
     "metadata": {},
     "output_type": "execute_result"
    }
   ],
   "source": [
    "d_frame.isnull().sum().sort_values(ascending=False)"
   ]
  },
  {
   "cell_type": "markdown",
   "metadata": {},
   "source": [
    "# Load all lookup sheets per feature in all the three datasets (accident, vehicle, casualties)"
   ]
  },
  {
   "cell_type": "code",
   "execution_count": 26,
   "metadata": {},
   "outputs": [],
   "source": [
    "var_lookup = pd.read_excel('variable lookup.xls', sheet_name=None)"
   ]
  },
  {
   "cell_type": "code",
   "execution_count": 27,
   "metadata": {},
   "outputs": [
    {
     "data": {
      "text/plain": [
       "dict_keys(['Introduction', 'Export Variables', 'Police Force', 'Accident Severity', 'Day of Week', 'Local Authority (District)', 'Local Authority (Highway)', '1st Road Class', 'Road Type', 'Speed Limit', 'Junction Detail', 'Junction Control', '2nd Road Class', 'Ped Cross - Human', 'Ped Cross - Physical', 'Light Conditions', 'Weather', 'Road Surface', 'Special Conditions at Site', 'Carriageway Hazards', 'Urban Rural', 'Police Officer Attend', 'Vehicle Type', 'Towing and Articulation', 'Vehicle Manoeuvre', 'Vehicle Location', 'Junction Location', 'Skidding and Overturning', 'Hit Object in Carriageway', 'Veh Leaving Carriageway', 'Hit Object Off Carriageway', '1st Point of Impact', 'Was Vehicle Left Hand Drive', 'Journey Purpose', 'Sex of Driver', 'Age Band', 'Vehicle Propulsion Code', 'Casualty Class', 'Sex of Casualty', 'Age of Casualty', 'Casualty Severity', 'Ped Location', 'Ped Movement', 'Car Passenger', 'Bus Passenger', 'Ped Road Maintenance Worker', 'Casualty Type', 'IMD Decile', 'Home Area Type'])"
      ]
     },
     "execution_count": 27,
     "metadata": {},
     "output_type": "execute_result"
    }
   ],
   "source": [
    "var_lookup.keys()"
   ]
  },
  {
   "cell_type": "code",
   "execution_count": 28,
   "metadata": {},
   "outputs": [],
   "source": [
    "# Renaming the columns which doesn't fall in the pattern\n",
    "\n",
    "accident=accident.rename(columns = {'Weather_Conditions' : 'Weather',\n",
    "'Pedestrian_Crossing-Human_Control' : 'Ped Cross - Human',\n",
    "'Pedestrian_Crossing-Physical_Facilities' : 'Ped Cross - Physical',\n",
    "'Urban_or_Rural_Area' : 'Urban Rural',\n",
    "'Road_Surface_Conditions' : 'Road Surface',\n",
    "'Did_Police_Officer_Attend_Scene_of_Accident' : 'Police Officer Attend'})"
   ]
  },
  {
   "cell_type": "code",
   "execution_count": 29,
   "metadata": {},
   "outputs": [
    {
     "name": "stdout",
     "output_type": "stream",
     "text": [
      "Index(['Data Guide'], dtype='object')\n",
      "Index(['VARIABLES', 'Unnamed: 1', 'Unnamed: 2'], dtype='object')\n",
      "Index(['code', 'label'], dtype='object')\n",
      "Index(['code', 'label'], dtype='object')\n",
      "Index(['code', 'label'], dtype='object')\n",
      "Index(['code', 'label'], dtype='object')\n",
      "Index(['Code', 'Label'], dtype='object')\n",
      "Index(['code', 'label'], dtype='object')\n",
      "Index(['code', 'label'], dtype='object')\n",
      "Index(['code', 'label'], dtype='object')\n",
      "Index(['code', 'label'], dtype='object')\n",
      "Index(['code', 'label'], dtype='object')\n",
      "Index(['code', 'label'], dtype='object')\n",
      "Index(['code', 'label'], dtype='object')\n",
      "Index(['code', 'label'], dtype='object')\n",
      "Index(['code', 'label'], dtype='object')\n",
      "Index(['code', 'label'], dtype='object')\n",
      "Index(['code', 'label'], dtype='object')\n",
      "Index(['code', 'label'], dtype='object')\n",
      "Index(['code', 'label'], dtype='object')\n",
      "Index(['code', 'label'], dtype='object')\n",
      "Index(['code', 'label'], dtype='object')\n",
      "Index(['code', 'label'], dtype='object')\n",
      "Index(['code', 'label'], dtype='object')\n",
      "Index(['code', 'label'], dtype='object')\n",
      "Index(['code', 'label'], dtype='object')\n",
      "Index(['code', 'label'], dtype='object')\n",
      "Index(['code', 'label'], dtype='object')\n",
      "Index(['code', 'label'], dtype='object')\n",
      "Index(['code', 'label'], dtype='object')\n",
      "Index(['code', 'label'], dtype='object')\n",
      "Index(['code', 'label'], dtype='object')\n",
      "Index(['code', 'label'], dtype='object')\n",
      "Index(['code', 'label'], dtype='object')\n",
      "Index(['code', 'label'], dtype='object')\n",
      "Index(['code', 'label'], dtype='object')\n",
      "Index(['code', 'label'], dtype='object')\n",
      "Index(['code', 'label'], dtype='object')\n",
      "Index(['code', 'label'], dtype='object')\n",
      "Index(['code', 'label'], dtype='object')\n",
      "Index(['code', 'label'], dtype='object')\n",
      "Index(['code', 'label'], dtype='object')\n",
      "Index(['code', 'label'], dtype='object')\n",
      "Index(['code', 'label'], dtype='object')\n",
      "Index(['code', 'label'], dtype='object')\n",
      "Index(['code', 'label'], dtype='object')\n",
      "Index(['code', 'label'], dtype='object')\n",
      "Index(['code', 'label'], dtype='object')\n",
      "Index(['code', 'label'], dtype='object')\n"
     ]
    }
   ],
   "source": [
    "# To check if all the sheets have same naming convention\n",
    "for key in var_lookup.keys():\n",
    "    print(var_lookup[key].columns)"
   ]
  },
  {
   "cell_type": "code",
   "execution_count": 30,
   "metadata": {},
   "outputs": [
    {
     "name": "stdout",
     "output_type": "stream",
     "text": [
      "Police_Force\n",
      "Accident_Severity\n",
      "Day_of_Week\n",
      "Local_Authority_(District)\n",
      "Local_Authority_(Highway)\n",
      "1st_Road_Class\n",
      "Road_Type\n",
      "Speed_limit\n",
      "Junction_Detail\n",
      "Junction_Control\n",
      "2nd_Road_Class\n",
      "Ped Cross - Human\n",
      "Ped Cross - Physical\n",
      "Light_Conditions\n",
      "Weather\n",
      "Road Surface\n",
      "Special_Conditions_at_Site\n",
      "Carriageway_Hazards\n",
      "Urban Rural\n",
      "Police Officer Attend\n"
     ]
    }
   ],
   "source": [
    "for col in accident.columns:\n",
    "    if col.lower().replace('_', ' ') in list(\n",
    "        [each_key.lower() for each_key in var_lookup.keys()]):\n",
    "        print(col)"
   ]
  },
  {
   "cell_type": "code",
   "execution_count": 31,
   "metadata": {},
   "outputs": [],
   "source": [
    "accident_decode = accident.copy()"
   ]
  },
  {
   "cell_type": "markdown",
   "metadata": {},
   "source": [
    "# Mapping"
   ]
  },
  {
   "cell_type": "code",
   "execution_count": 32,
   "metadata": {},
   "outputs": [],
   "source": [
    "def create_dict(df_var_look_up):\n",
    "    ''' To generate a dictionary in the format {code : label}'''\n",
    "    temp_dict = {}\n",
    "    df_var_look_up.columns = [\n",
    "        each_col.lower() for each_col in df_var_look_up.columns]\n",
    "    for each1, each2 in zip(df_var_look_up['code'], df_var_look_up['label']):\n",
    "        temp_dict[each1] = each2\n",
    "    return temp_dict"
   ]
  },
  {
   "cell_type": "code",
   "execution_count": 33,
   "metadata": {},
   "outputs": [
    {
     "name": "stdout",
     "output_type": "stream",
     "text": [
      "Police_Force\n",
      "Police Force\n",
      "Accident_Severity\n",
      "Accident Severity\n",
      "Day_of_Week\n",
      "Day of Week\n",
      "Local_Authority_(District)\n",
      "Local Authority (District)\n",
      "Local_Authority_(Highway)\n",
      "Local Authority (Highway)\n",
      "1st_Road_Class\n",
      "1st Road Class\n",
      "Road_Type\n",
      "Road Type\n",
      "Speed_limit\n",
      "Speed Limit\n",
      "Junction_Detail\n",
      "Junction Detail\n",
      "Junction_Control\n",
      "Junction Control\n",
      "2nd_Road_Class\n",
      "2nd Road Class\n",
      "Ped Cross - Human\n",
      "Ped Cross - Human\n",
      "Ped Cross - Physical\n",
      "Ped Cross - Physical\n",
      "Light_Conditions\n",
      "Light Conditions\n",
      "Weather\n",
      "Weather\n",
      "Road Surface\n",
      "Road Surface\n",
      "Special_Conditions_at_Site\n",
      "Special Conditions at Site\n",
      "Carriageway_Hazards\n",
      "Carriageway Hazards\n",
      "Urban Rural\n",
      "Urban Rural\n",
      "Police Officer Attend\n",
      "Police Officer Attend\n",
      "Wall time: 434 ms\n"
     ]
    }
   ],
   "source": [
    "%%time\n",
    "\n",
    "# accident: Dataframe for all accidents in the UK in 2019\n",
    "# var_lookup: Dictionary of dataframes of the Variable data look up excel\n",
    "\n",
    "for column in accident.columns:\n",
    "    for sheet in list(var_lookup.keys()):\n",
    "        if column.lower().replace('_', ' ') == sheet.lower():\n",
    "            print(column)\n",
    "            print(sheet)\n",
    "            # print(accident[column].map(create_dict(var_lookup[sheet]), na_action='ignore'))\n",
    "            accident_decode[column] = accident[column].map(\n",
    "                create_dict(var_lookup[sheet]), na_action='ignore')\n",
    "            break"
   ]
  },
  {
   "cell_type": "code",
   "execution_count": 34,
   "metadata": {},
   "outputs": [
    {
     "data": {
      "text/html": [
       "<div>\n",
       "<style scoped>\n",
       "    .dataframe tbody tr th:only-of-type {\n",
       "        vertical-align: middle;\n",
       "    }\n",
       "\n",
       "    .dataframe tbody tr th {\n",
       "        vertical-align: top;\n",
       "    }\n",
       "\n",
       "    .dataframe thead th {\n",
       "        text-align: right;\n",
       "    }\n",
       "</style>\n",
       "<table border=\"1\" class=\"dataframe\">\n",
       "  <thead>\n",
       "    <tr style=\"text-align: right;\">\n",
       "      <th></th>\n",
       "      <th>Accident_Index</th>\n",
       "      <th>Longitude</th>\n",
       "      <th>Latitude</th>\n",
       "      <th>Police_Force</th>\n",
       "      <th>Accident_Severity</th>\n",
       "      <th>Number_of_Vehicles</th>\n",
       "      <th>Number_of_Casualties</th>\n",
       "      <th>Date</th>\n",
       "      <th>Day_of_Week</th>\n",
       "      <th>Time</th>\n",
       "      <th>...</th>\n",
       "      <th>Ped Cross - Human</th>\n",
       "      <th>Ped Cross - Physical</th>\n",
       "      <th>Light_Conditions</th>\n",
       "      <th>Weather</th>\n",
       "      <th>Road Surface</th>\n",
       "      <th>Special_Conditions_at_Site</th>\n",
       "      <th>Carriageway_Hazards</th>\n",
       "      <th>Urban Rural</th>\n",
       "      <th>Police Officer Attend</th>\n",
       "      <th>Converted_Time</th>\n",
       "    </tr>\n",
       "  </thead>\n",
       "  <tbody>\n",
       "    <tr>\n",
       "      <th>0</th>\n",
       "      <td>2019010128300</td>\n",
       "      <td>-0.153842</td>\n",
       "      <td>51.508057</td>\n",
       "      <td>Metropolitan Police</td>\n",
       "      <td>Slight</td>\n",
       "      <td>2</td>\n",
       "      <td>3</td>\n",
       "      <td>18/02/2019</td>\n",
       "      <td>Monday</td>\n",
       "      <td>17:50</td>\n",
       "      <td>...</td>\n",
       "      <td>None within 50 metres</td>\n",
       "      <td>Pedestrian phase at traffic signal junction</td>\n",
       "      <td>Daylight</td>\n",
       "      <td>Fine no high winds</td>\n",
       "      <td>Dry</td>\n",
       "      <td>None</td>\n",
       "      <td>None</td>\n",
       "      <td>Urban</td>\n",
       "      <td>No - accident was reported using a self comple...</td>\n",
       "      <td>17.0</td>\n",
       "    </tr>\n",
       "    <tr>\n",
       "      <th>1</th>\n",
       "      <td>2019010152270</td>\n",
       "      <td>-0.127949</td>\n",
       "      <td>51.436208</td>\n",
       "      <td>Metropolitan Police</td>\n",
       "      <td>Slight</td>\n",
       "      <td>2</td>\n",
       "      <td>1</td>\n",
       "      <td>15/01/2019</td>\n",
       "      <td>Tuesday</td>\n",
       "      <td>21:45</td>\n",
       "      <td>...</td>\n",
       "      <td>Data missing or out of range</td>\n",
       "      <td>Data missing or out of range</td>\n",
       "      <td>Darkness - lights lit</td>\n",
       "      <td>Fine no high winds</td>\n",
       "      <td>Dry</td>\n",
       "      <td>None</td>\n",
       "      <td>None</td>\n",
       "      <td>Urban</td>\n",
       "      <td>No - accident was reported using a self comple...</td>\n",
       "      <td>21.0</td>\n",
       "    </tr>\n",
       "    <tr>\n",
       "      <th>2</th>\n",
       "      <td>2019010155191</td>\n",
       "      <td>-0.124193</td>\n",
       "      <td>51.526795</td>\n",
       "      <td>Metropolitan Police</td>\n",
       "      <td>Slight</td>\n",
       "      <td>2</td>\n",
       "      <td>1</td>\n",
       "      <td>01/01/2019</td>\n",
       "      <td>Tuesday</td>\n",
       "      <td>01:50</td>\n",
       "      <td>...</td>\n",
       "      <td>None within 50 metres</td>\n",
       "      <td>No physical crossing facilities within 50 metres</td>\n",
       "      <td>Darkness - lights lit</td>\n",
       "      <td>Fine no high winds</td>\n",
       "      <td>Dry</td>\n",
       "      <td>None</td>\n",
       "      <td>None</td>\n",
       "      <td>Urban</td>\n",
       "      <td>Yes</td>\n",
       "      <td>1.0</td>\n",
       "    </tr>\n",
       "    <tr>\n",
       "      <th>3</th>\n",
       "      <td>2019010155192</td>\n",
       "      <td>-0.191044</td>\n",
       "      <td>51.546387</td>\n",
       "      <td>Metropolitan Police</td>\n",
       "      <td>Serious</td>\n",
       "      <td>1</td>\n",
       "      <td>1</td>\n",
       "      <td>01/01/2019</td>\n",
       "      <td>Tuesday</td>\n",
       "      <td>01:20</td>\n",
       "      <td>...</td>\n",
       "      <td>None within 50 metres</td>\n",
       "      <td>No physical crossing facilities within 50 metres</td>\n",
       "      <td>Darkness - lights lit</td>\n",
       "      <td>Fine no high winds</td>\n",
       "      <td>Dry</td>\n",
       "      <td>None</td>\n",
       "      <td>None</td>\n",
       "      <td>Urban</td>\n",
       "      <td>Yes</td>\n",
       "      <td>1.0</td>\n",
       "    </tr>\n",
       "    <tr>\n",
       "      <th>4</th>\n",
       "      <td>2019010155194</td>\n",
       "      <td>-0.200064</td>\n",
       "      <td>51.541121</td>\n",
       "      <td>Metropolitan Police</td>\n",
       "      <td>Slight</td>\n",
       "      <td>2</td>\n",
       "      <td>2</td>\n",
       "      <td>01/01/2019</td>\n",
       "      <td>Tuesday</td>\n",
       "      <td>00:40</td>\n",
       "      <td>...</td>\n",
       "      <td>None within 50 metres</td>\n",
       "      <td>No physical crossing facilities within 50 metres</td>\n",
       "      <td>Darkness - lights lit</td>\n",
       "      <td>Fine no high winds</td>\n",
       "      <td>Dry</td>\n",
       "      <td>None</td>\n",
       "      <td>None</td>\n",
       "      <td>Urban</td>\n",
       "      <td>Yes</td>\n",
       "      <td>0.0</td>\n",
       "    </tr>\n",
       "  </tbody>\n",
       "</table>\n",
       "<p>5 rows × 30 columns</p>\n",
       "</div>"
      ],
      "text/plain": [
       "  Accident_Index  Longitude   Latitude         Police_Force Accident_Severity  \\\n",
       "0  2019010128300  -0.153842  51.508057  Metropolitan Police            Slight   \n",
       "1  2019010152270  -0.127949  51.436208  Metropolitan Police            Slight   \n",
       "2  2019010155191  -0.124193  51.526795  Metropolitan Police            Slight   \n",
       "3  2019010155192  -0.191044  51.546387  Metropolitan Police           Serious   \n",
       "4  2019010155194  -0.200064  51.541121  Metropolitan Police            Slight   \n",
       "\n",
       "   Number_of_Vehicles  Number_of_Casualties        Date Day_of_Week   Time  \\\n",
       "0                   2                     3  18/02/2019      Monday  17:50   \n",
       "1                   2                     1  15/01/2019     Tuesday  21:45   \n",
       "2                   2                     1  01/01/2019     Tuesday  01:50   \n",
       "3                   1                     1  01/01/2019     Tuesday  01:20   \n",
       "4                   2                     2  01/01/2019     Tuesday  00:40   \n",
       "\n",
       "   ...             Ped Cross - Human  \\\n",
       "0  ...        None within 50 metres    \n",
       "1  ...  Data missing or out of range   \n",
       "2  ...        None within 50 metres    \n",
       "3  ...        None within 50 metres    \n",
       "4  ...        None within 50 metres    \n",
       "\n",
       "                               Ped Cross - Physical       Light_Conditions  \\\n",
       "0       Pedestrian phase at traffic signal junction               Daylight   \n",
       "1                      Data missing or out of range  Darkness - lights lit   \n",
       "2  No physical crossing facilities within 50 metres  Darkness - lights lit   \n",
       "3  No physical crossing facilities within 50 metres  Darkness - lights lit   \n",
       "4  No physical crossing facilities within 50 metres  Darkness - lights lit   \n",
       "\n",
       "              Weather Road Surface Special_Conditions_at_Site  \\\n",
       "0  Fine no high winds          Dry                       None   \n",
       "1  Fine no high winds          Dry                       None   \n",
       "2  Fine no high winds          Dry                       None   \n",
       "3  Fine no high winds          Dry                       None   \n",
       "4  Fine no high winds          Dry                       None   \n",
       "\n",
       "  Carriageway_Hazards Urban Rural  \\\n",
       "0                None       Urban   \n",
       "1                None       Urban   \n",
       "2                None       Urban   \n",
       "3                None       Urban   \n",
       "4                None       Urban   \n",
       "\n",
       "                               Police Officer Attend  Converted_Time  \n",
       "0  No - accident was reported using a self comple...            17.0  \n",
       "1  No - accident was reported using a self comple...            21.0  \n",
       "2                                                Yes             1.0  \n",
       "3                                                Yes             1.0  \n",
       "4                                                Yes             0.0  \n",
       "\n",
       "[5 rows x 30 columns]"
      ]
     },
     "execution_count": 34,
     "metadata": {},
     "output_type": "execute_result"
    }
   ],
   "source": [
    "accident_decode.head()"
   ]
  },
  {
   "cell_type": "code",
   "execution_count": null,
   "metadata": {},
   "outputs": [],
   "source": []
  },
  {
   "cell_type": "code",
   "execution_count": 35,
   "metadata": {},
   "outputs": [
    {
     "data": {
      "text/plain": [
       "Index(['Accident_Index', 'Vehicle_Reference', 'Casualty_Reference',\n",
       "       'Casualty_Class', 'Sex_of_Casualty', 'Age_of_Casualty',\n",
       "       'Age_Band_of_Casualty', 'Casualty_Severity', 'Pedestrian_Location',\n",
       "       'Pedestrian_Movement', 'Car_Passenger', 'Bus_or_Coach_Passenger',\n",
       "       'Pedestrian_Road_Maintenance_Worker', 'Casualty_Type',\n",
       "       'Casualty_Home_Area_Type', 'Casualty_IMD_Decile'],\n",
       "      dtype='object')"
      ]
     },
     "execution_count": 35,
     "metadata": {},
     "output_type": "execute_result"
    }
   ],
   "source": [
    "casualities.columns"
   ]
  },
  {
   "cell_type": "code",
   "execution_count": 36,
   "metadata": {},
   "outputs": [],
   "source": [
    "casualities=casualities.rename(columns = {'Pedestrian_Location' : 'Pedestrian Location',\n",
    "'Pedestrian_Movement' : 'Pedestrian Movement',\n",
    "'Bus_or_Coach_Passenger' : 'Bus or Coach Passenger',\n",
    "'Pedestrian_Road_Maintenance_Worker' : 'Pedestrian Road Maintenance Worker',\n",
    "'Casualty_Home_Area_Type' : 'Casualty Home Area Type',\n",
    "'Casualty_IMD_Decile' : 'Casualty IMD Decile',\n",
    "})"
   ]
  },
  {
   "cell_type": "code",
   "execution_count": 37,
   "metadata": {},
   "outputs": [
    {
     "name": "stdout",
     "output_type": "stream",
     "text": [
      "Casualty_Class\n",
      "Sex_of_Casualty\n",
      "Age_of_Casualty\n",
      "Casualty_Severity\n",
      "Car_Passenger\n",
      "Casualty_Type\n"
     ]
    }
   ],
   "source": [
    "for col in casualities.columns:\n",
    "    if col.lower().replace('_', ' ') in list(\n",
    "        [each_key.lower() for each_key in var_lookup.keys()]):\n",
    "        print(col)"
   ]
  },
  {
   "cell_type": "code",
   "execution_count": 38,
   "metadata": {},
   "outputs": [],
   "source": [
    "casualities_decode = casualities.copy()"
   ]
  },
  {
   "cell_type": "code",
   "execution_count": 39,
   "metadata": {},
   "outputs": [
    {
     "name": "stdout",
     "output_type": "stream",
     "text": [
      "Casualty_Class\n",
      "Casualty Class\n",
      "Sex_of_Casualty\n",
      "Sex of Casualty\n",
      "Age_of_Casualty\n",
      "Age of Casualty\n",
      "Casualty_Severity\n",
      "Casualty Severity\n",
      "Car_Passenger\n",
      "Car Passenger\n",
      "Casualty_Type\n",
      "Casualty Type\n",
      "Wall time: 182 ms\n"
     ]
    }
   ],
   "source": [
    "%%time\n",
    "\n",
    "# casuality: Dataframe for all casualities in accidents in the UK in 2019\n",
    "# var_lookup: Dictionary of dataframes of the Variable data look up excel\n",
    "\n",
    "for col in casualities.columns:\n",
    "    for sheet in list(var_lookup.keys()):\n",
    "        if col.lower().replace('_', ' ') == sheet.lower():\n",
    "            print(col)\n",
    "            print(sheet)\n",
    "            casualities_decode[col] = casualities[col].map(\n",
    "                create_dict(var_lookup[sheet]), na_action='ignore')\n",
    "            break"
   ]
  },
  {
   "cell_type": "code",
   "execution_count": null,
   "metadata": {},
   "outputs": [],
   "source": []
  },
  {
   "cell_type": "code",
   "execution_count": 40,
   "metadata": {},
   "outputs": [
    {
     "data": {
      "text/plain": [
       "Index(['Accident_Index', 'Vehicle_Reference', 'Vehicle_Type',\n",
       "       'Towing_and_Articulation', 'Vehicle_Manoeuvre',\n",
       "       'Vehicle_Location-Restricted_Lane', 'Junction_Location',\n",
       "       'Skidding_and_Overturning', 'Hit_Object_in_Carriageway',\n",
       "       'Vehicle_Leaving_Carriageway', 'Hit_Object_off_Carriageway',\n",
       "       '1st_Point_of_Impact', 'Was_Vehicle_Left_Hand_Drive?',\n",
       "       'Journey_Purpose_of_Driver', 'Sex_of_Driver', 'Age_of_Driver',\n",
       "       'Age_Band_of_Driver', 'Engine_Capacity_(CC)', 'Propulsion_Code',\n",
       "       'Age_of_Vehicle', 'Driver_IMD_Decile', 'Driver_Home_Area_Type',\n",
       "       'Vehicle_IMD_Decile'],\n",
       "      dtype='object')"
      ]
     },
     "execution_count": 40,
     "metadata": {},
     "output_type": "execute_result"
    }
   ],
   "source": [
    "vehicles.columns"
   ]
  },
  {
   "cell_type": "code",
   "execution_count": 41,
   "metadata": {},
   "outputs": [
    {
     "name": "stdout",
     "output_type": "stream",
     "text": [
      "Vehicle_Type\n",
      "Towing_and_Articulation\n",
      "Vehicle_Manoeuvre\n",
      "Junction_Location\n",
      "Skidding_and_Overturning\n",
      "Hit_Object_in_Carriageway\n",
      "Hit_Object_off_Carriageway\n",
      "1st_Point_of_Impact\n",
      "Sex_of_Driver\n"
     ]
    }
   ],
   "source": [
    "for col in vehicles.columns:\n",
    "    if col.lower().replace('_', ' ') in list(\n",
    "        [each_key.lower() for each_key in var_lookup.keys()]):\n",
    "        print(col)"
   ]
  },
  {
   "cell_type": "code",
   "execution_count": 42,
   "metadata": {},
   "outputs": [],
   "source": [
    "vehicles=vehicles.rename(columns = {'Vehicle_Location-Restricted_Lane' : 'Vehicle Location',\n",
    "'Vehicle_Leaving_Carriageway' : 'Vehicles Leaving Carriageway',\n",
    "'Was_Vehicle_Left_Hand_Drive?' : 'Was Vehicle Left Hand Drive',\n",
    "'Journey_Purpose_of_Driver' : 'Driver Journey Purpose',\n",
    "'Age_Band_of_Driver' : 'Driver Age Band',\n",
    "'Propulsion_Code' : 'Propulsion Code',\n",
    "})"
   ]
  },
  {
   "cell_type": "code",
   "execution_count": 43,
   "metadata": {},
   "outputs": [],
   "source": [
    "vehicles_decode = vehicles.copy()"
   ]
  },
  {
   "cell_type": "code",
   "execution_count": 44,
   "metadata": {},
   "outputs": [],
   "source": [
    "def create_dict(var_look_up):\n",
    "    ''' To generate a dictionary in the format {code : label}'''\n",
    "    temp_dict = {}\n",
    "\n",
    "    var_look_up.columns = [\n",
    "        each_col.lower() for each_col in var_look_up.columns\n",
    "    ]\n",
    "    for each1, each2 in zip(var_look_up['code'], var_look_up['label']):\n",
    "        temp_dict[each1] = each2\n",
    "    return temp_dict"
   ]
  },
  {
   "cell_type": "code",
   "execution_count": 45,
   "metadata": {},
   "outputs": [
    {
     "name": "stdout",
     "output_type": "stream",
     "text": [
      "Vehicle_Type\n",
      "Vehicle Type\n",
      "Towing_and_Articulation\n",
      "Towing and Articulation\n",
      "Vehicle_Manoeuvre\n",
      "Vehicle Manoeuvre\n",
      "Vehicle Location\n",
      "Vehicle Location\n",
      "Junction_Location\n",
      "Junction Location\n",
      "Skidding_and_Overturning\n",
      "Skidding and Overturning\n",
      "Hit_Object_in_Carriageway\n",
      "Hit Object in Carriageway\n",
      "Hit_Object_off_Carriageway\n",
      "Hit Object Off Carriageway\n",
      "1st_Point_of_Impact\n",
      "1st Point of Impact\n",
      "Was Vehicle Left Hand Drive\n",
      "Was Vehicle Left Hand Drive\n",
      "Sex_of_Driver\n",
      "Sex of Driver\n",
      "Wall time: 438 ms\n"
     ]
    }
   ],
   "source": [
    "%%time\n",
    "\n",
    "# df_accidents: Dataframe for all accidents in the UK in 2019\n",
    "# var_lookup: Dictionary of dataframes of the Variable data look up excel\n",
    "\n",
    "for col in vehicles.columns:\n",
    "    for sheet in list(var_lookup.keys()):\n",
    "        if col.lower().replace('_', ' ') == sheet.lower():\n",
    "            print(col)\n",
    "            print(sheet)\n",
    "            vehicles_decode[col] = vehicles[col].map(\n",
    "                create_dict(var_lookup[sheet]), na_action='ignore')\n",
    "            break"
   ]
  },
  {
   "cell_type": "markdown",
   "metadata": {},
   "source": [
    "# Merging Dataframe"
   ]
  },
  {
   "cell_type": "code",
   "execution_count": 46,
   "metadata": {},
   "outputs": [],
   "source": [
    "merged_df = vehicles_decode.merge(casualities_decode, on ='Accident_Index')"
   ]
  },
  {
   "cell_type": "code",
   "execution_count": 47,
   "metadata": {},
   "outputs": [],
   "source": [
    "d_frame = merged_df.merge(accident_decode, on = 'Accident_Index')"
   ]
  },
  {
   "cell_type": "code",
   "execution_count": 48,
   "metadata": {},
   "outputs": [
    {
     "data": {
      "text/plain": [
       "(295579, 67)"
      ]
     },
     "execution_count": 48,
     "metadata": {},
     "output_type": "execute_result"
    }
   ],
   "source": [
    "d_frame.shape"
   ]
  },
  {
   "cell_type": "code",
   "execution_count": 49,
   "metadata": {},
   "outputs": [],
   "source": [
    "d_frame.to_csv(\"merged_df.csv\")"
   ]
  },
  {
   "cell_type": "code",
   "execution_count": null,
   "metadata": {},
   "outputs": [],
   "source": []
  },
  {
   "cell_type": "markdown",
   "metadata": {},
   "source": [
    "# EDA"
   ]
  },
  {
   "cell_type": "markdown",
   "metadata": {},
   "source": [
    "# Accident by Time of the Day"
   ]
  },
  {
   "cell_type": "code",
   "execution_count": 50,
   "metadata": {},
   "outputs": [],
   "source": [
    "def get_radian(x):\n",
    "    h,m = map(int,x)\n",
    "    return 2 * np.pi * (h + m/60)/24"
   ]
  },
  {
   "cell_type": "code",
   "execution_count": 51,
   "metadata": {},
   "outputs": [],
   "source": [
    "Time_group= accident[-accident['Time'].isna()].groupby('Time')['Number_of_Casualties'].sum().reset_index()"
   ]
  },
  {
   "cell_type": "code",
   "execution_count": 52,
   "metadata": {},
   "outputs": [
    {
     "data": {
      "text/html": [
       "<div>\n",
       "<style scoped>\n",
       "    .dataframe tbody tr th:only-of-type {\n",
       "        vertical-align: middle;\n",
       "    }\n",
       "\n",
       "    .dataframe tbody tr th {\n",
       "        vertical-align: top;\n",
       "    }\n",
       "\n",
       "    .dataframe thead th {\n",
       "        text-align: right;\n",
       "    }\n",
       "</style>\n",
       "<table border=\"1\" class=\"dataframe\">\n",
       "  <thead>\n",
       "    <tr style=\"text-align: right;\">\n",
       "      <th></th>\n",
       "      <th>Time</th>\n",
       "      <th>Number_of_Casualties</th>\n",
       "    </tr>\n",
       "  </thead>\n",
       "  <tbody>\n",
       "    <tr>\n",
       "      <th>0</th>\n",
       "      <td>00:01</td>\n",
       "      <td>212</td>\n",
       "    </tr>\n",
       "    <tr>\n",
       "      <th>1</th>\n",
       "      <td>00:02</td>\n",
       "      <td>28</td>\n",
       "    </tr>\n",
       "    <tr>\n",
       "      <th>2</th>\n",
       "      <td>00:03</td>\n",
       "      <td>44</td>\n",
       "    </tr>\n",
       "    <tr>\n",
       "      <th>3</th>\n",
       "      <td>00:04</td>\n",
       "      <td>44</td>\n",
       "    </tr>\n",
       "    <tr>\n",
       "      <th>4</th>\n",
       "      <td>00:05</td>\n",
       "      <td>95</td>\n",
       "    </tr>\n",
       "  </tbody>\n",
       "</table>\n",
       "</div>"
      ],
      "text/plain": [
       "    Time  Number_of_Casualties\n",
       "0  00:01                   212\n",
       "1  00:02                    28\n",
       "2  00:03                    44\n",
       "3  00:04                    44\n",
       "4  00:05                    95"
      ]
     },
     "execution_count": 52,
     "metadata": {},
     "output_type": "execute_result"
    }
   ],
   "source": [
    "Time_group.head()"
   ]
  },
  {
   "cell_type": "code",
   "execution_count": 53,
   "metadata": {},
   "outputs": [
    {
     "data": {
      "text/plain": [
       "0    0.004363\n",
       "1    0.008727\n",
       "2    0.013090\n",
       "3    0.017453\n",
       "4    0.021817\n",
       "Name: Time, dtype: float64"
      ]
     },
     "execution_count": 53,
     "metadata": {},
     "output_type": "execute_result"
    }
   ],
   "source": [
    "time_series = Time_group['Time'].str.split(':')\n",
    "time_series = time_series.apply(get_radian)\n",
    "time_series.head()"
   ]
  },
  {
   "cell_type": "code",
   "execution_count": 54,
   "metadata": {},
   "outputs": [
    {
     "data": {
      "text/plain": [
       "0         17:50\n",
       "1         21:45\n",
       "2         01:50\n",
       "3         01:20\n",
       "4         00:40\n",
       "          ...  \n",
       "117531    01:00\n",
       "117532    08:46\n",
       "117533    15:30\n",
       "117534    14:10\n",
       "117535    12:45\n",
       "Name: Time, Length: 117536, dtype: object"
      ]
     },
     "execution_count": 54,
     "metadata": {},
     "output_type": "execute_result"
    }
   ],
   "source": [
    "accident['Time']"
   ]
  },
  {
   "cell_type": "code",
   "execution_count": 55,
   "metadata": {},
   "outputs": [],
   "source": [
    "def when_was_it(hour):\n",
    "    if hour >= 5 and hour < 10:\n",
    "        return \"morning rush (5-10)\"\n",
    "    elif hour >= 10 and hour < 15:\n",
    "        return \"office hours (10-15)\"\n",
    "    elif hour >= 15 and hour < 19:\n",
    "        return \"afternoon rush (15-19)\"\n",
    "    elif hour >= 19 and hour < 23:\n",
    "        return \"evening (19-23)\"\n",
    "    else:\n",
    "        return \"night (23-5)\""
   ]
  },
  {
   "cell_type": "code",
   "execution_count": 56,
   "metadata": {},
   "outputs": [],
   "source": [
    "accident_decode['Time_Group'] = accident_decode['Converted_Time'].apply(when_was_it)"
   ]
  },
  {
   "cell_type": "code",
   "execution_count": 57,
   "metadata": {},
   "outputs": [
    {
     "name": "stderr",
     "output_type": "stream",
     "text": [
      "C:\\Users\\USER\\anaconda3\\lib\\site-packages\\seaborn\\_decorators.py:36: FutureWarning: Pass the following variables as keyword args: x, y. From version 0.12, the only valid positional argument will be `data`, and passing other arguments without an explicit keyword will result in an error or misinterpretation.\n",
      "  warnings.warn(\n"
     ]
    },
    {
     "data": {
      "image/png": "[encoded data removed]",
      "text/plain": [
       "<Figure size 864x720 with 1 Axes>"
      ]
     },
     "metadata": {
      "needs_background": "light"
     },
     "output_type": "display_data"
    }
   ],
   "source": [
    "accident_pd= accident_decode.groupby(['Time_Group'])['Accident_Index'].count()\n",
    "\n",
    "# prepare plot\n",
    "# plt.style.use('dark_background')\n",
    "plt.figure(figsize=(12,10))\n",
    "time_frame=[\"morning rush(5-10)\", \"office hours (10-15)\", \"afternoon rush (15-19)\",\n",
    "     \"evening (19-23)\", \"night (23-5)\"]\n",
    "sns.barplot(accident_pd.index,accident_pd.values, order=time_frame, palette='rainbow')\n",
    "sns.despine(top=True, right=True, left=True, bottom=True)\n",
    "plt.title(\"Accidents Per Time of Day\",fontsize=20,fontweight=\"bold\")\n",
    "plt.xticks(fontsize=12)\n",
    "plt.yticks(fontsize=15)\n",
    "\n",
    "plt.xlabel(\"\", fontsize=15, fontweight=\"bold\")\n",
    "plt.ylabel(\"\\nNumber of Accidents\", fontsize=15, fontweight=\"bold\")\n",
    "plt.tight_layout()\n",
    "plt.savefig('accidentpd.png')"
   ]
  },
  {
   "cell_type": "code",
   "execution_count": null,
   "metadata": {},
   "outputs": [],
   "source": []
  },
  {
   "cell_type": "code",
   "execution_count": null,
   "metadata": {},
   "outputs": [],
   "source": []
  },
  {
   "cell_type": "code",
   "execution_count": 58,
   "metadata": {},
   "outputs": [],
   "source": [
    "# def plot_by_time_of_the_day(df, time_col_name, plot_col_name, plot_title=None):\n",
    "#     \"\"\"\n",
    "#     Radial plot by time.\n",
    "\n",
    "#     df: grouped dataframe\n",
    "#     time_col_name: name of the time column in format HH:MM\n",
    "#     plot_col_name: name of the column that contains estimated counts per time instance\n",
    "#     plot_title: title of the plot\n",
    "#     \"\"\"\n",
    "#     fig = plt.figure(figsize=(7, 7))\n",
    "#     time_series = df[time_col_name].str.split(':')\n",
    "#     time_series = time_series.apply(get_radian)\n",
    "#     ax = plt.subplot(111, projection='polar')\n",
    "#     ax.bar(time_series, df[plot_col_name], width=0.1, alpha=0.3, color='blue')\n",
    "\n",
    "#     # clockwise labels\n",
    "#     ax.set_theta_direction(-1)\n",
    "\n",
    "#     # place Zero at 12AM\n",
    "#     ax.set_theta_offset(np.pi / 2)\n",
    "\n",
    "#     # set circumference ticks\n",
    "#     ax.set_xticks(np.linspace(0, 2 * np.pi, 24, endpoint=False))\n",
    "\n",
    "#     # set the label names\n",
    "#     ticks = [\n",
    "#         '12 AM', '1 AM', '2 AM', '3 AM', '4 AM', '5 AM', '6 AM', '7 AM',\n",
    "#         '8 AM', '9 AM', '10 AM', '11 AM', '12 PM', '1 PM', '2 PM', '3 PM',\n",
    "#         '4 PM', '5 PM', '6 PM', '7 PM', '8 PM', '9 PM', '10 PM', '11 PM'\n",
    "#     ]\n",
    "#     ax.set_xticklabels(ticks)\n",
    "\n",
    "#     # suppress the radial labels\n",
    "#     plt.setp(ax.get_yticklabels(), visible=False)\n",
    "\n",
    "#     # Radius\n",
    "#     plt.ylim(0, max(df[plot_col_name]))\n",
    "\n",
    "#     plt.title(plot_title, pad=30)\n",
    "\n",
    "#     plt.show()"
   ]
  },
  {
   "cell_type": "code",
   "execution_count": 59,
   "metadata": {},
   "outputs": [],
   "source": [
    "# def TimeBand(time):\n",
    "#   if time  == 6 and  time < 10:\n",
    "#     return 'Morning Rush'\n",
    "#   elif time == 10 and  time < 12:\n",
    "#     return 'Day'\n",
    "#   elif time == 12 and  time < 14:\n",
    "#     return 'Lunch Rush'\n",
    "#   elif time == 14 and  time <16:\n",
    "#     return 'Afternoon'\n",
    "#   elif time == 16 and time < 18 :\n",
    "#     return 'After Work Rush'\n",
    "#   elif time == 18 and time < 22:\n",
    "#     return 'Evening'\n",
    "#   else :\n",
    "#     return \"Night\"\n"
   ]
  },
  {
   "cell_type": "markdown",
   "metadata": {},
   "source": [
    "# Number of Accidents per Day of the Week"
   ]
  },
  {
   "cell_type": "code",
   "execution_count": 126,
   "metadata": {},
   "outputs": [
    {
     "data": {
      "image/png": "[encoded data removed]",
      "text/plain": [
       "<Figure size 432x288 with 1 Axes>"
      ]
     },
     "metadata": {
      "needs_background": "light"
     },
     "output_type": "display_data"
    },
    {
     "data": {
      "text/plain": [
       "<Figure size 432x288 with 0 Axes>"
      ]
     },
     "metadata": {},
     "output_type": "display_data"
    }
   ],
   "source": [
    "sns.barplot(x='Accident_Index', y='Day_of_Week', data=accident_decode.groupby('Day_of_Week')['Accident_Index'].count().reset_index().sort_values(by='Accident_Index'))\n",
    "plt.title(\"Number of Accidents per Day of the Week\",fontsize=15,fontweight=\"bold\")\n",
    "plt.ylabel(\"Day of Week\",fontsize=8,fontweight=\"bold\")\n",
    "plt.xlabel(\"Number of Accidents\",fontsize=8,fontweight=\"bold\")\n",
    "plt.show()\n",
    "plt.savefig('Numaccidentpd.png')"
   ]
  },
  {
   "cell_type": "code",
   "execution_count": null,
   "metadata": {},
   "outputs": [],
   "source": []
  },
  {
   "cell_type": "markdown",
   "metadata": {},
   "source": [
    "# For motorbikes, are there significant hours of the day, and days of the week, on which accidents occur?"
   ]
  },
  {
   "cell_type": "code",
   "execution_count": 61,
   "metadata": {},
   "outputs": [],
   "source": [
    "acc_vec = accident_decode.merge(vehicles_decode, on=\"Accident_Index\")"
   ]
  },
  {
   "cell_type": "code",
   "execution_count": 62,
   "metadata": {
    "scrolled": true
   },
   "outputs": [
    {
     "name": "stderr",
     "output_type": "stream",
     "text": [
      "<ipython-input-62-d7c672196251>:2: UserWarning: Boolean Series key will be reindexed to match DataFrame index.\n",
      "  motorbikes = acc_vec[(acc_vec['Vehicle_Type'] == 'Motorcycle 50cc and under') | (acc_vec['Vehicle_Type'] == \"Motorcycle 125cc and under\") | (acc_vec['Vehicle_Type'] == \"Motorcycle over 125cc and up to 500cc\") | (acc_vec['Vehicle_Type'] == \"Motorcycle over 500cc\") | (acc_vec['Vehicle_Type'] == \"Electric motorcycle\") | (d_frame['Vehicle_Type'] == \"Motorcycle - unknown cc\")]\n"
     ]
    }
   ],
   "source": [
    "#All motocycles accident\n",
    "motorbikes = acc_vec[(acc_vec['Vehicle_Type'] == 'Motorcycle 50cc and under') | (acc_vec['Vehicle_Type'] == \"Motorcycle 125cc and under\") | (acc_vec['Vehicle_Type'] == \"Motorcycle over 125cc and up to 500cc\") | (acc_vec['Vehicle_Type'] == \"Motorcycle over 500cc\") | (acc_vec['Vehicle_Type'] == \"Electric motorcycle\") | (d_frame['Vehicle_Type'] == \"Motorcycle - unknown cc\")]"
   ]
  },
  {
   "cell_type": "code",
   "execution_count": 127,
   "metadata": {},
   "outputs": [
    {
     "data": {
      "text/plain": [
       "30                  night (23-5)\n",
       "39          office hours (10-15)\n",
       "41        afternoon rush (15-19)\n",
       "46          office hours (10-15)\n",
       "49        afternoon rush (15-19)\n",
       "                   ...          \n",
       "216307      office hours (10-15)\n",
       "216358      office hours (10-15)\n",
       "216361      office hours (10-15)\n",
       "216364      office hours (10-15)\n",
       "216380      office hours (10-15)\n",
       "Name: Time_Group, Length: 17290, dtype: object"
      ]
     },
     "execution_count": 127,
     "metadata": {},
     "output_type": "execute_result"
    }
   ],
   "source": [
    "motorbikes['Time_Group']"
   ]
  },
  {
   "cell_type": "markdown",
   "metadata": {},
   "source": [
    "# Motocycle accident per days of the week"
   ]
  },
  {
   "cell_type": "code",
   "execution_count": 132,
   "metadata": {
    "scrolled": false
   },
   "outputs": [
    {
     "data": {
      "image/png": "[encoded data removed]",
      "text/plain": [
       "<Figure size 864x432 with 1 Axes>"
      ]
     },
     "metadata": {
      "needs_background": "light"
     },
     "output_type": "display_data"
    },
    {
     "data": {
      "text/plain": [
       "<Figure size 1080x1080 with 0 Axes>"
      ]
     },
     "metadata": {},
     "output_type": "display_data"
    }
   ],
   "source": [
    "sns.displot(data=motorbikes,x=\"Day_of_Week\", height=6, aspect=12/6,   palette=sns.color_palette(\"husl\", n_colors=9))\n",
    "plt.title(\"Number of Motocycle Accidents per Day of the Week\")\n",
    "plt.ylabel(\"counts\")\n",
    "plt.xlabel(\"Days of the week\" )\n",
    "plt.figure(figsize = (15,15))\n",
    "\n",
    "plt.show\n",
    "plt.savefig('Motocycleacc.png')\n"
   ]
  },
  {
   "cell_type": "code",
   "execution_count": null,
   "metadata": {},
   "outputs": [],
   "source": []
  },
  {
   "cell_type": "markdown",
   "metadata": {},
   "source": [
    "# Motocycle accident per time"
   ]
  },
  {
   "cell_type": "code",
   "execution_count": 65,
   "metadata": {},
   "outputs": [
    {
     "data": {
      "text/plain": [
       "<function matplotlib.pyplot.show(*args, **kw)>"
      ]
     },
     "execution_count": 65,
     "metadata": {},
     "output_type": "execute_result"
    },
    {
     "data": {
      "image/png": "[encoded data removed]",
      "text/plain": [
       "<Figure size 1152x576 with 1 Axes>"
      ]
     },
     "metadata": {
      "needs_background": "light"
     },
     "output_type": "display_data"
    }
   ],
   "source": [
    "sns.displot(data=motorbikes,x= \"Time_Group\", height=8, aspect=12/6)\n",
    "plt.title(\"Number of Motocycle Accidents per time (2019)\")\n",
    "plt.ylabel(\"counts\")\n",
    "plt.xlabel(\"Days of the week\")\n",
    "# plt.figure(figsize = (20,15))\n",
    "plt.show"
   ]
  },
  {
   "cell_type": "code",
   "execution_count": null,
   "metadata": {},
   "outputs": [],
   "source": []
  },
  {
   "cell_type": "markdown",
   "metadata": {},
   "source": [
    "# Are there significant hours of the day, and days of the week, on which accidents occur for pedestrians?"
   ]
  },
  {
   "cell_type": "code",
   "execution_count": 66,
   "metadata": {},
   "outputs": [],
   "source": [
    "ped_acc = accident_decode.merge(casualities_decode, on=\"Accident_Index\")"
   ]
  },
  {
   "cell_type": "code",
   "execution_count": 67,
   "metadata": {},
   "outputs": [],
   "source": [
    "df_ped= ped_acc[(ped_acc['Casualty_Type']==\"Pedestrian\")]"
   ]
  },
  {
   "cell_type": "markdown",
   "metadata": {},
   "source": [
    "# Pedestrian accident per Day of the week"
   ]
  },
  {
   "cell_type": "code",
   "execution_count": 68,
   "metadata": {},
   "outputs": [
    {
     "data": {
      "text/plain": [
       "<function matplotlib.pyplot.show(*args, **kw)>"
      ]
     },
     "execution_count": 68,
     "metadata": {},
     "output_type": "execute_result"
    },
    {
     "data": {
      "image/png": "[encoded data removed]",
      "text/plain": [
       "<Figure size 1440x720 with 1 Axes>"
      ]
     },
     "metadata": {
      "needs_background": "light"
     },
     "output_type": "display_data"
    },
    {
     "data": {
      "text/plain": [
       "<Figure size 1440x1080 with 0 Axes>"
      ]
     },
     "metadata": {},
     "output_type": "display_data"
    }
   ],
   "source": [
    "sns.displot(data=df_ped,x=\"Day_of_Week\", height=10, aspect=12/6, palette=sns.color_palette(\"husl\", n_colors=6))\n",
    "plt.title(\"Number of Pedestrian Accidents  per Day of the Week\")\n",
    "plt.ylabel(\"counts\")\n",
    "plt.xlabel(\"Days of the week\")\n",
    "plt.figure(figsize = (20,15))\n",
    "plt.show"
   ]
  },
  {
   "cell_type": "code",
   "execution_count": null,
   "metadata": {},
   "outputs": [],
   "source": []
  },
  {
   "cell_type": "code",
   "execution_count": 69,
   "metadata": {},
   "outputs": [
    {
     "data": {
      "text/plain": [
       "<function matplotlib.pyplot.show(*args, **kw)>"
      ]
     },
     "execution_count": 69,
     "metadata": {},
     "output_type": "execute_result"
    },
    {
     "data": {
      "image/png": "[encoded data removed]",
      "text/plain": [
       "<Figure size 1331.25x576 with 1 Axes>"
      ]
     },
     "metadata": {
      "needs_background": "light"
     },
     "output_type": "display_data"
    },
    {
     "data": {
      "text/plain": [
       "<Figure size 1440x1080 with 0 Axes>"
      ]
     },
     "metadata": {},
     "output_type": "display_data"
    }
   ],
   "source": [
    "sns.displot(data=df_ped,x=\"Time_Group\", height=8, aspect=12/6,  hue=\"Speed_limit\", palette=sns.color_palette(\"husl\", n_colors=7))\n",
    "plt.title(\"Number of Pedestrian Accidents per Time of the Day (2019)\")\n",
    "plt.ylabel(\"counts\")\n",
    "plt.xlabel(\"Days of the week\")\n",
    "plt.figure(figsize = (20,15))\n",
    "plt.show"
   ]
  },
  {
   "cell_type": "code",
   "execution_count": null,
   "metadata": {},
   "outputs": [],
   "source": []
  },
  {
   "cell_type": "markdown",
   "metadata": {},
   "source": [
    "# What impact, if any, does daylight savings have on road traffic accidents in the week after it starts and stops?"
   ]
  },
  {
   "cell_type": "code",
   "execution_count": 70,
   "metadata": {},
   "outputs": [],
   "source": [
    "accident['formatted_date'] = pd.to_datetime(accident['Date'])\n",
    "accident['day_of_year'] = accident.formatted_date.apply(lambda x: x.dayofyear)\n",
    "accident['week_of_year'] = accident.formatted_date.apply(lambda x: x.weekofyear)"
   ]
  },
  {
   "cell_type": "code",
   "execution_count": 71,
   "metadata": {},
   "outputs": [
    {
     "name": "stderr",
     "output_type": "stream",
     "text": [
      "C:\\Users\\USER\\anaconda3\\lib\\site-packages\\seaborn\\_decorators.py:36: FutureWarning: Pass the following variable as a keyword arg: x. From version 0.12, the only valid positional argument will be `data`, and passing other arguments without an explicit keyword will result in an error or misinterpretation.\n",
      "  warnings.warn(\n"
     ]
    },
    {
     "data": {
      "text/plain": [
       "[Text(0, 0.5, 'Number of Accidents'), Text(0.5, 0, 'Weeks')]"
      ]
     },
     "execution_count": 71,
     "metadata": {},
     "output_type": "execute_result"
    },
    {
     "data": {
      "image/png": "[encoded data removed]",
      "text/plain": [
       "<Figure size 1008x432 with 1 Axes>"
      ]
     },
     "metadata": {
      "needs_background": "light"
     },
     "output_type": "display_data"
    }
   ],
   "source": [
    "daylight_starts = accident[(accident['week_of_year'] == 12) | (accident['week_of_year'] == 13) | (accident['week_of_year'] == 14) ]\n",
    "fig, ax = plt.subplots(figsize=(14,6))\n",
    "# plot\n",
    "ax = sns.countplot(daylight_starts['week_of_year'])\n",
    "for p in ax.patches: ax.annotate('{:.0f}'.format(p.get_height()), (p.get_x()+0.20, p.get_height()+0.01))\n",
    "ax.set_title('Distribution of Accidents that occurred week ', fontsize=14, fontweight='bold')\n",
    "ax.set(xlabel='Weeks', ylabel='Number of Accidents')"
   ]
  },
  {
   "cell_type": "code",
   "execution_count": 72,
   "metadata": {},
   "outputs": [
    {
     "name": "stderr",
     "output_type": "stream",
     "text": [
      "C:\\Users\\USER\\anaconda3\\lib\\site-packages\\seaborn\\_decorators.py:36: FutureWarning: Pass the following variable as a keyword arg: x. From version 0.12, the only valid positional argument will be `data`, and passing other arguments without an explicit keyword will result in an error or misinterpretation.\n",
      "  warnings.warn(\n"
     ]
    },
    {
     "data": {
      "text/plain": [
       "[Text(0, 0.5, 'Number of Accidents'), Text(0.5, 0, 'Weeks')]"
      ]
     },
     "execution_count": 72,
     "metadata": {},
     "output_type": "execute_result"
    },
    {
     "data": {
      "image/png": "[encoded data removed]",
      "text/plain": [
       "<Figure size 1008x432 with 1 Axes>"
      ]
     },
     "metadata": {
      "needs_background": "light"
     },
     "output_type": "display_data"
    }
   ],
   "source": [
    "daylight_starts = accident[(accident['week_of_year'] == 42) | (accident['week_of_year'] == 43) | (accident['week_of_year'] == 44) ]\n",
    "fig, ax = plt.subplots(figsize=(14,6))\n",
    "# plot\n",
    "ax = sns.countplot(daylight_starts['week_of_year'])\n",
    "for p in ax.patches: ax.annotate('{:.0f}'.format(p.get_height()), (p.get_x()+0.20, p.get_height()+0.01))\n",
    "ax.set_title('Distribution of Accidents that occurred week ', fontsize=14, fontweight='bold')\n",
    "ax.set(xlabel='Weeks', ylabel='Number of Accidents')"
   ]
  },
  {
   "cell_type": "code",
   "execution_count": null,
   "metadata": {},
   "outputs": [],
   "source": []
  },
  {
   "cell_type": "markdown",
   "metadata": {},
   "source": [
    "# Impact of sunrise and sunset times have on road traffic accidents"
   ]
  },
  {
   "cell_type": "code",
   "execution_count": 73,
   "metadata": {},
   "outputs": [],
   "source": [
    "sunrise_time=accident[((accident[\"Converted_Time\"] >= 6.0 ))] "
   ]
  },
  {
   "cell_type": "code",
   "execution_count": 74,
   "metadata": {},
   "outputs": [],
   "source": [
    "Sun_time=((sunrise_time['Number_of_Casualties'].sum())/(accident['Number_of_Casualties'].sum()))*100"
   ]
  },
  {
   "cell_type": "code",
   "execution_count": 75,
   "metadata": {},
   "outputs": [
    {
     "name": "stdout",
     "output_type": "stream",
     "text": [
      "The sunrise Impact on road traffic is: 93.85 % \n"
     ]
    }
   ],
   "source": [
    "print(\"The sunrise Impact on road traffic is: {:.2f} % \".format(Sun_time))"
   ]
  },
  {
   "cell_type": "code",
   "execution_count": 76,
   "metadata": {
    "scrolled": true
   },
   "outputs": [
    {
     "data": {
      "text/plain": [
       "0         18/02/2019\n",
       "1         15/01/2019\n",
       "2         01/01/2019\n",
       "3         01/01/2019\n",
       "4         01/01/2019\n",
       "             ...    \n",
       "117531    18/05/2019\n",
       "117532    30/05/2019\n",
       "117533    21/06/2019\n",
       "117534    29/06/2019\n",
       "117535    21/04/2019\n",
       "Name: Date, Length: 117536, dtype: object"
      ]
     },
     "execution_count": 76,
     "metadata": {},
     "output_type": "execute_result"
    }
   ],
   "source": [
    "accident['Date']"
   ]
  },
  {
   "cell_type": "code",
   "execution_count": 77,
   "metadata": {},
   "outputs": [],
   "source": [
    "from datetime import datetime, date"
   ]
  },
  {
   "cell_type": "code",
   "execution_count": 78,
   "metadata": {},
   "outputs": [],
   "source": [
    "#Since sunrises and sets within 5 minutes\n",
    "sunrise_time=accident[((accident[\"Converted_Time\"] >= 6.0 )&(accident[\"Converted_Time\"] <= 6.05))]"
   ]
  },
  {
   "cell_type": "code",
   "execution_count": 79,
   "metadata": {},
   "outputs": [],
   "source": [
    "Suntime=((sunrise_time['Number_of_Casualties'].sum())/(accident['Number_of_Casualties'].sum()))*100"
   ]
  },
  {
   "cell_type": "code",
   "execution_count": 80,
   "metadata": {},
   "outputs": [
    {
     "name": "stdout",
     "output_type": "stream",
     "text": [
      "sunrise Impact on road traffic is: 93.85 % \n"
     ]
    }
   ],
   "source": [
    "print(\"sunrise Impact on road traffic is: {:.2f} % \".format(Sun_time))"
   ]
  },
  {
   "cell_type": "code",
   "execution_count": 81,
   "metadata": {},
   "outputs": [],
   "source": [
    "Sunset=accident[((accident[\"Converted_Time\"] >= 18.0 ))] "
   ]
  },
  {
   "cell_type": "code",
   "execution_count": 82,
   "metadata": {},
   "outputs": [],
   "source": [
    "sunset_time=((Sunset['Number_of_Casualties'].sum())/(accident['Number_of_Casualties'].sum()))*100"
   ]
  },
  {
   "cell_type": "code",
   "execution_count": 83,
   "metadata": {},
   "outputs": [
    {
     "name": "stdout",
     "output_type": "stream",
     "text": [
      "sunset Impact on road traffic is: 24.83 % \n"
     ]
    }
   ],
   "source": [
    "print(\"sunset Impact on road traffic is: {:.2f} % \".format(sunset_time))"
   ]
  },
  {
   "cell_type": "code",
   "execution_count": 84,
   "metadata": {},
   "outputs": [
    {
     "name": "stdout",
     "output_type": "stream",
     "text": [
      "<class 'pandas.core.frame.DataFrame'>\n",
      "RangeIndex: 117536 entries, 0 to 117535\n",
      "Data columns (total 31 columns):\n",
      " #   Column                      Non-Null Count   Dtype  \n",
      "---  ------                      --------------   -----  \n",
      " 0   Accident_Index              117536 non-null  object \n",
      " 1   Longitude                   117508 non-null  float64\n",
      " 2   Latitude                    117508 non-null  float64\n",
      " 3   Police_Force                117536 non-null  object \n",
      " 4   Accident_Severity           117536 non-null  object \n",
      " 5   Number_of_Vehicles          117536 non-null  int64  \n",
      " 6   Number_of_Casualties        117536 non-null  int64  \n",
      " 7   Date                        117536 non-null  object \n",
      " 8   Day_of_Week                 117536 non-null  object \n",
      " 9   Time                        117473 non-null  object \n",
      " 10  Local_Authority_(District)  117536 non-null  object \n",
      " 11  Local_Authority_(Highway)   117536 non-null  object \n",
      " 12  1st_Road_Class              117536 non-null  object \n",
      " 13  1st_Road_Number             117536 non-null  int64  \n",
      " 14  Road_Type                   117536 non-null  object \n",
      " 15  Speed_limit                 117536 non-null  object \n",
      " 16  Junction_Detail             117536 non-null  object \n",
      " 17  Junction_Control            117536 non-null  object \n",
      " 18  2nd_Road_Class              68430 non-null   object \n",
      " 19  2nd_Road_Number             117536 non-null  int64  \n",
      " 20  Ped Cross - Human           117536 non-null  object \n",
      " 21  Ped Cross - Physical        117536 non-null  object \n",
      " 22  Light_Conditions            117536 non-null  object \n",
      " 23  Weather                     117536 non-null  object \n",
      " 24  Road Surface                117536 non-null  object \n",
      " 25  Special_Conditions_at_Site  117536 non-null  object \n",
      " 26  Carriageway_Hazards         117536 non-null  object \n",
      " 27  Urban Rural                 117536 non-null  object \n",
      " 28  Police Officer Attend       117536 non-null  object \n",
      " 29  Converted_Time              117473 non-null  float64\n",
      " 30  Time_Group                  117536 non-null  object \n",
      "dtypes: float64(3), int64(4), object(24)\n",
      "memory usage: 27.8+ MB\n"
     ]
    }
   ],
   "source": [
    "accident_decode.info()"
   ]
  },
  {
   "cell_type": "code",
   "execution_count": 85,
   "metadata": {},
   "outputs": [],
   "source": [
    "# we then append them into one dataframe\n",
    "sunrise_sunset=sunrise_time.append(Sunset)"
   ]
  },
  {
   "cell_type": "code",
   "execution_count": 86,
   "metadata": {},
   "outputs": [],
   "source": [
    "total_rise_set=((sunrise_sunset['Number_of_Casualties'].sum())/(accident['Number_of_Casualties'].sum()))*100"
   ]
  },
  {
   "cell_type": "code",
   "execution_count": 87,
   "metadata": {},
   "outputs": [
    {
     "name": "stdout",
     "output_type": "stream",
     "text": [
      "Impact of sunrise and sunset on road traffic is: 26.77 % \n"
     ]
    }
   ],
   "source": [
    "print(\"Impact of sunrise and sunset on road traffic is: {:.2f} % \".format(total_rise_set))"
   ]
  },
  {
   "cell_type": "markdown",
   "metadata": {},
   "source": [
    "# Are there particular types of vehicles (engine capacity, age of vehicle, etc.) that are more frequently involved in road traffic accidents?"
   ]
  },
  {
   "cell_type": "code",
   "execution_count": 88,
   "metadata": {},
   "outputs": [],
   "source": [
    "engine_cap = vehicles[['Engine_Capacity_(CC)','Age_of_Vehicle']]"
   ]
  },
  {
   "cell_type": "code",
   "execution_count": 89,
   "metadata": {
    "scrolled": true
   },
   "outputs": [],
   "source": [
    "features = [\"Engine_Capacity_(CC)\",\t\"Age_of_Vehicle\"]"
   ]
  },
  {
   "cell_type": "code",
   "execution_count": 90,
   "metadata": {},
   "outputs": [],
   "source": [
    "kmeans = KMeans(n_clusters=25)"
   ]
  },
  {
   "cell_type": "code",
   "execution_count": 91,
   "metadata": {},
   "outputs": [],
   "source": [
    "x = vehicles.loc[:, features].values"
   ]
  },
  {
   "cell_type": "code",
   "execution_count": 92,
   "metadata": {},
   "outputs": [
    {
     "data": {
      "text/plain": [
       "KMeans(n_clusters=25)"
      ]
     },
     "execution_count": 92,
     "metadata": {},
     "output_type": "execute_result"
    }
   ],
   "source": [
    "kmeans.fit(x)"
   ]
  },
  {
   "cell_type": "code",
   "execution_count": 93,
   "metadata": {},
   "outputs": [],
   "source": [
    "labels = kmeans.predict(x)"
   ]
  },
  {
   "cell_type": "code",
   "execution_count": 94,
   "metadata": {},
   "outputs": [],
   "source": [
    "centriods = kmeans.cluster_centers_"
   ]
  },
  {
   "cell_type": "code",
   "execution_count": 95,
   "metadata": {},
   "outputs": [
    {
     "data": {
      "image/png": "[encoded data removed]",
      "text/plain": [
       "<Figure size 576x576 with 1 Axes>"
      ]
     },
     "metadata": {
      "needs_background": "light"
     },
     "output_type": "display_data"
    }
   ],
   "source": [
    "fig = plt.figure(figsize=(8,8))\n",
    "colors = map(lambda x: colmap[x+1], labels)\n",
    "plt.xlabel('Engine capacity CC',fontdict = {'fontsize' : 15})\n",
    "plt.ylabel('Age of vehicle',fontdict = {'fontsize' : 15})\n",
    "plt.scatter(engine_cap['Engine_Capacity_(CC)'],engine_cap['Age_of_Vehicle'],color=\"green\")\n",
    "plt.scatter(centriods[:,0],centriods[:,1],color=\"red\")\n",
    "plt.show()"
   ]
  },
  {
   "cell_type": "code",
   "execution_count": null,
   "metadata": {},
   "outputs": [],
   "source": []
  },
  {
   "cell_type": "markdown",
   "metadata": {},
   "source": [
    "# Are there particular conditions (weather, geographic location, situations) that generate more road traffic accidents?\n"
   ]
  },
  {
   "cell_type": "markdown",
   "metadata": {},
   "source": [
    "# Weather Conditions"
   ]
  },
  {
   "cell_type": "code",
   "execution_count": 96,
   "metadata": {},
   "outputs": [
    {
     "data": {
      "image/png": "[encoded data removed]",
      "text/plain": [
       "<Figure size 432x288 with 1 Axes>"
      ]
     },
     "metadata": {
      "needs_background": "light"
     },
     "output_type": "display_data"
    }
   ],
   "source": [
    "sns.barplot(x='Accident_Index', y='Weather', data=accident_decode.groupby('Weather')['Accident_Index'].count().reset_index().sort_values(by='Accident_Index'))\n",
    "plt.title(\"Number of accidents by Weather (2019)\")\n",
    "plt.xlabel(\"Number of Accidents\")\n",
    "plt.show()"
   ]
  },
  {
   "cell_type": "code",
   "execution_count": 97,
   "metadata": {},
   "outputs": [
    {
     "data": {
      "text/html": [
       "<div>\n",
       "<style scoped>\n",
       "    .dataframe tbody tr th:only-of-type {\n",
       "        vertical-align: middle;\n",
       "    }\n",
       "\n",
       "    .dataframe tbody tr th {\n",
       "        vertical-align: top;\n",
       "    }\n",
       "\n",
       "    .dataframe thead th {\n",
       "        text-align: right;\n",
       "    }\n",
       "</style>\n",
       "<table border=\"1\" class=\"dataframe\">\n",
       "  <thead>\n",
       "    <tr style=\"text-align: right;\">\n",
       "      <th></th>\n",
       "      <th>Weather</th>\n",
       "      <th>Road Surface</th>\n",
       "      <th>Accident_Index</th>\n",
       "    </tr>\n",
       "  </thead>\n",
       "  <tbody>\n",
       "    <tr>\n",
       "      <th>0</th>\n",
       "      <td>Fine + high winds</td>\n",
       "      <td>Data missing or out of range</td>\n",
       "      <td>4</td>\n",
       "    </tr>\n",
       "    <tr>\n",
       "      <th>1</th>\n",
       "      <td>Fine + high winds</td>\n",
       "      <td>Dry</td>\n",
       "      <td>761</td>\n",
       "    </tr>\n",
       "    <tr>\n",
       "      <th>2</th>\n",
       "      <td>Fine + high winds</td>\n",
       "      <td>Flood over 3cm. deep</td>\n",
       "      <td>3</td>\n",
       "    </tr>\n",
       "    <tr>\n",
       "      <th>3</th>\n",
       "      <td>Fine + high winds</td>\n",
       "      <td>Frost or ice</td>\n",
       "      <td>14</td>\n",
       "    </tr>\n",
       "    <tr>\n",
       "      <th>4</th>\n",
       "      <td>Fine + high winds</td>\n",
       "      <td>Snow</td>\n",
       "      <td>1</td>\n",
       "    </tr>\n",
       "    <tr>\n",
       "      <th>5</th>\n",
       "      <td>Fine + high winds</td>\n",
       "      <td>Wet or damp</td>\n",
       "      <td>447</td>\n",
       "    </tr>\n",
       "    <tr>\n",
       "      <th>6</th>\n",
       "      <td>Fine no high winds</td>\n",
       "      <td>Data missing or out of range</td>\n",
       "      <td>283</td>\n",
       "    </tr>\n",
       "    <tr>\n",
       "      <th>7</th>\n",
       "      <td>Fine no high winds</td>\n",
       "      <td>Dry</td>\n",
       "      <td>77791</td>\n",
       "    </tr>\n",
       "    <tr>\n",
       "      <th>8</th>\n",
       "      <td>Fine no high winds</td>\n",
       "      <td>Flood over 3cm. deep</td>\n",
       "      <td>21</td>\n",
       "    </tr>\n",
       "    <tr>\n",
       "      <th>9</th>\n",
       "      <td>Fine no high winds</td>\n",
       "      <td>Frost or ice</td>\n",
       "      <td>713</td>\n",
       "    </tr>\n",
       "    <tr>\n",
       "      <th>10</th>\n",
       "      <td>Fine no high winds</td>\n",
       "      <td>Snow</td>\n",
       "      <td>32</td>\n",
       "    </tr>\n",
       "    <tr>\n",
       "      <th>11</th>\n",
       "      <td>Fine no high winds</td>\n",
       "      <td>Wet or damp</td>\n",
       "      <td>13476</td>\n",
       "    </tr>\n",
       "    <tr>\n",
       "      <th>15</th>\n",
       "      <td>Fog or mist</td>\n",
       "      <td>Wet or damp</td>\n",
       "      <td>261</td>\n",
       "    </tr>\n",
       "    <tr>\n",
       "      <th>14</th>\n",
       "      <td>Fog or mist</td>\n",
       "      <td>Frost or ice</td>\n",
       "      <td>41</td>\n",
       "    </tr>\n",
       "    <tr>\n",
       "      <th>12</th>\n",
       "      <td>Fog or mist</td>\n",
       "      <td>Data missing or out of range</td>\n",
       "      <td>1</td>\n",
       "    </tr>\n",
       "    <tr>\n",
       "      <th>13</th>\n",
       "      <td>Fog or mist</td>\n",
       "      <td>Dry</td>\n",
       "      <td>91</td>\n",
       "    </tr>\n",
       "    <tr>\n",
       "      <th>16</th>\n",
       "      <td>Other</td>\n",
       "      <td>Data missing or out of range</td>\n",
       "      <td>44</td>\n",
       "    </tr>\n",
       "    <tr>\n",
       "      <th>17</th>\n",
       "      <td>Other</td>\n",
       "      <td>Dry</td>\n",
       "      <td>1327</td>\n",
       "    </tr>\n",
       "    <tr>\n",
       "      <th>18</th>\n",
       "      <td>Other</td>\n",
       "      <td>Flood over 3cm. deep</td>\n",
       "      <td>5</td>\n",
       "    </tr>\n",
       "    <tr>\n",
       "      <th>19</th>\n",
       "      <td>Other</td>\n",
       "      <td>Frost or ice</td>\n",
       "      <td>287</td>\n",
       "    </tr>\n",
       "    <tr>\n",
       "      <th>20</th>\n",
       "      <td>Other</td>\n",
       "      <td>Snow</td>\n",
       "      <td>15</td>\n",
       "    </tr>\n",
       "    <tr>\n",
       "      <th>21</th>\n",
       "      <td>Other</td>\n",
       "      <td>Wet or damp</td>\n",
       "      <td>1365</td>\n",
       "    </tr>\n",
       "    <tr>\n",
       "      <th>26</th>\n",
       "      <td>Raining + high winds</td>\n",
       "      <td>Snow</td>\n",
       "      <td>1</td>\n",
       "    </tr>\n",
       "    <tr>\n",
       "      <th>27</th>\n",
       "      <td>Raining + high winds</td>\n",
       "      <td>Wet or damp</td>\n",
       "      <td>1372</td>\n",
       "    </tr>\n",
       "    <tr>\n",
       "      <th>25</th>\n",
       "      <td>Raining + high winds</td>\n",
       "      <td>Frost or ice</td>\n",
       "      <td>4</td>\n",
       "    </tr>\n",
       "    <tr>\n",
       "      <th>24</th>\n",
       "      <td>Raining + high winds</td>\n",
       "      <td>Flood over 3cm. deep</td>\n",
       "      <td>32</td>\n",
       "    </tr>\n",
       "    <tr>\n",
       "      <th>23</th>\n",
       "      <td>Raining + high winds</td>\n",
       "      <td>Dry</td>\n",
       "      <td>14</td>\n",
       "    </tr>\n",
       "    <tr>\n",
       "      <th>22</th>\n",
       "      <td>Raining + high winds</td>\n",
       "      <td>Data missing or out of range</td>\n",
       "      <td>7</td>\n",
       "    </tr>\n",
       "    <tr>\n",
       "      <th>28</th>\n",
       "      <td>Raining no high winds</td>\n",
       "      <td>Data missing or out of range</td>\n",
       "      <td>59</td>\n",
       "    </tr>\n",
       "    <tr>\n",
       "      <th>29</th>\n",
       "      <td>Raining no high winds</td>\n",
       "      <td>Dry</td>\n",
       "      <td>302</td>\n",
       "    </tr>\n",
       "    <tr>\n",
       "      <th>30</th>\n",
       "      <td>Raining no high winds</td>\n",
       "      <td>Flood over 3cm. deep</td>\n",
       "      <td>111</td>\n",
       "    </tr>\n",
       "    <tr>\n",
       "      <th>31</th>\n",
       "      <td>Raining no high winds</td>\n",
       "      <td>Frost or ice</td>\n",
       "      <td>42</td>\n",
       "    </tr>\n",
       "    <tr>\n",
       "      <th>32</th>\n",
       "      <td>Raining no high winds</td>\n",
       "      <td>Snow</td>\n",
       "      <td>15</td>\n",
       "    </tr>\n",
       "    <tr>\n",
       "      <th>33</th>\n",
       "      <td>Raining no high winds</td>\n",
       "      <td>Wet or damp</td>\n",
       "      <td>14765</td>\n",
       "    </tr>\n",
       "    <tr>\n",
       "      <th>38</th>\n",
       "      <td>Snowing + high winds</td>\n",
       "      <td>Wet or damp</td>\n",
       "      <td>8</td>\n",
       "    </tr>\n",
       "    <tr>\n",
       "      <th>36</th>\n",
       "      <td>Snowing + high winds</td>\n",
       "      <td>Frost or ice</td>\n",
       "      <td>6</td>\n",
       "    </tr>\n",
       "    <tr>\n",
       "      <th>37</th>\n",
       "      <td>Snowing + high winds</td>\n",
       "      <td>Snow</td>\n",
       "      <td>22</td>\n",
       "    </tr>\n",
       "    <tr>\n",
       "      <th>34</th>\n",
       "      <td>Snowing + high winds</td>\n",
       "      <td>Data missing or out of range</td>\n",
       "      <td>1</td>\n",
       "    </tr>\n",
       "    <tr>\n",
       "      <th>35</th>\n",
       "      <td>Snowing + high winds</td>\n",
       "      <td>Dry</td>\n",
       "      <td>3</td>\n",
       "    </tr>\n",
       "    <tr>\n",
       "      <th>39</th>\n",
       "      <td>Snowing no high winds</td>\n",
       "      <td>Data missing or out of range</td>\n",
       "      <td>2</td>\n",
       "    </tr>\n",
       "    <tr>\n",
       "      <th>40</th>\n",
       "      <td>Snowing no high winds</td>\n",
       "      <td>Dry</td>\n",
       "      <td>14</td>\n",
       "    </tr>\n",
       "    <tr>\n",
       "      <th>41</th>\n",
       "      <td>Snowing no high winds</td>\n",
       "      <td>Frost or ice</td>\n",
       "      <td>57</td>\n",
       "    </tr>\n",
       "    <tr>\n",
       "      <th>42</th>\n",
       "      <td>Snowing no high winds</td>\n",
       "      <td>Snow</td>\n",
       "      <td>157</td>\n",
       "    </tr>\n",
       "    <tr>\n",
       "      <th>43</th>\n",
       "      <td>Snowing no high winds</td>\n",
       "      <td>Wet or damp</td>\n",
       "      <td>123</td>\n",
       "    </tr>\n",
       "    <tr>\n",
       "      <th>48</th>\n",
       "      <td>Unknown</td>\n",
       "      <td>Snow</td>\n",
       "      <td>2</td>\n",
       "    </tr>\n",
       "    <tr>\n",
       "      <th>44</th>\n",
       "      <td>Unknown</td>\n",
       "      <td>Data missing or out of range</td>\n",
       "      <td>948</td>\n",
       "    </tr>\n",
       "    <tr>\n",
       "      <th>45</th>\n",
       "      <td>Unknown</td>\n",
       "      <td>Dry</td>\n",
       "      <td>2018</td>\n",
       "    </tr>\n",
       "    <tr>\n",
       "      <th>46</th>\n",
       "      <td>Unknown</td>\n",
       "      <td>Flood over 3cm. deep</td>\n",
       "      <td>5</td>\n",
       "    </tr>\n",
       "    <tr>\n",
       "      <th>47</th>\n",
       "      <td>Unknown</td>\n",
       "      <td>Frost or ice</td>\n",
       "      <td>21</td>\n",
       "    </tr>\n",
       "    <tr>\n",
       "      <th>49</th>\n",
       "      <td>Unknown</td>\n",
       "      <td>Wet or damp</td>\n",
       "      <td>442</td>\n",
       "    </tr>\n",
       "  </tbody>\n",
       "</table>\n",
       "</div>"
      ],
      "text/plain": [
       "                  Weather                  Road Surface  Accident_Index\n",
       "0       Fine + high winds  Data missing or out of range               4\n",
       "1       Fine + high winds                           Dry             761\n",
       "2       Fine + high winds          Flood over 3cm. deep               3\n",
       "3       Fine + high winds                  Frost or ice              14\n",
       "4       Fine + high winds                          Snow               1\n",
       "5       Fine + high winds                   Wet or damp             447\n",
       "6      Fine no high winds  Data missing or out of range             283\n",
       "7      Fine no high winds                           Dry           77791\n",
       "8      Fine no high winds          Flood over 3cm. deep              21\n",
       "9      Fine no high winds                  Frost or ice             713\n",
       "10     Fine no high winds                          Snow              32\n",
       "11     Fine no high winds                   Wet or damp           13476\n",
       "15            Fog or mist                   Wet or damp             261\n",
       "14            Fog or mist                  Frost or ice              41\n",
       "12            Fog or mist  Data missing or out of range               1\n",
       "13            Fog or mist                           Dry              91\n",
       "16                  Other  Data missing or out of range              44\n",
       "17                  Other                           Dry            1327\n",
       "18                  Other          Flood over 3cm. deep               5\n",
       "19                  Other                  Frost or ice             287\n",
       "20                  Other                          Snow              15\n",
       "21                  Other                   Wet or damp            1365\n",
       "26   Raining + high winds                          Snow               1\n",
       "27   Raining + high winds                   Wet or damp            1372\n",
       "25   Raining + high winds                  Frost or ice               4\n",
       "24   Raining + high winds          Flood over 3cm. deep              32\n",
       "23   Raining + high winds                           Dry              14\n",
       "22   Raining + high winds  Data missing or out of range               7\n",
       "28  Raining no high winds  Data missing or out of range              59\n",
       "29  Raining no high winds                           Dry             302\n",
       "30  Raining no high winds          Flood over 3cm. deep             111\n",
       "31  Raining no high winds                  Frost or ice              42\n",
       "32  Raining no high winds                          Snow              15\n",
       "33  Raining no high winds                   Wet or damp           14765\n",
       "38   Snowing + high winds                   Wet or damp               8\n",
       "36   Snowing + high winds                  Frost or ice               6\n",
       "37   Snowing + high winds                          Snow              22\n",
       "34   Snowing + high winds  Data missing or out of range               1\n",
       "35   Snowing + high winds                           Dry               3\n",
       "39  Snowing no high winds  Data missing or out of range               2\n",
       "40  Snowing no high winds                           Dry              14\n",
       "41  Snowing no high winds                  Frost or ice              57\n",
       "42  Snowing no high winds                          Snow             157\n",
       "43  Snowing no high winds                   Wet or damp             123\n",
       "48                Unknown                          Snow               2\n",
       "44                Unknown  Data missing or out of range             948\n",
       "45                Unknown                           Dry            2018\n",
       "46                Unknown          Flood over 3cm. deep               5\n",
       "47                Unknown                  Frost or ice              21\n",
       "49                Unknown                   Wet or damp             442"
      ]
     },
     "execution_count": 97,
     "metadata": {},
     "output_type": "execute_result"
    }
   ],
   "source": [
    "accident_decode.groupby(['Weather', 'Road Surface'])[['Accident_Index'\n",
    "]].count().reset_index().sort_values(by='Weather')"
   ]
  },
  {
   "cell_type": "markdown",
   "metadata": {},
   "source": [
    "# Geographical location (Urban or Rural)"
   ]
  },
  {
   "cell_type": "code",
   "execution_count": 98,
   "metadata": {},
   "outputs": [
    {
     "data": {
      "image/png": "[encoded data removed]",
      "text/plain": [
       "<Figure size 432x288 with 1 Axes>"
      ]
     },
     "metadata": {
      "needs_background": "light"
     },
     "output_type": "display_data"
    }
   ],
   "source": [
    "sns.barplot(x='Accident_Index', y='Urban Rural', data=accident_decode.groupby('Urban Rural')['Accident_Index'].count().reset_index().sort_values(by='Accident_Index'))\n",
    "plt.title(\"Number of accidents by Urban or Rural (2019)\")\n",
    "plt.show()"
   ]
  },
  {
   "cell_type": "code",
   "execution_count": null,
   "metadata": {},
   "outputs": [],
   "source": []
  },
  {
   "cell_type": "markdown",
   "metadata": {},
   "source": [
    "# How does driver related variables affect the outcome (e.g., age of the driver, and the purpose of the journey)?"
   ]
  },
  {
   "cell_type": "code",
   "execution_count": 99,
   "metadata": {},
   "outputs": [],
   "source": [
    "Vehicle_accident=accident.merge(vehicles, on=['Accident_Index'], how='inner')"
   ]
  },
  {
   "cell_type": "code",
   "execution_count": 100,
   "metadata": {},
   "outputs": [],
   "source": [
    "predict = ['Age_of_Driver','Driver Journey Purpose','Sex_of_Driver','Age_of_Vehicle','Day_of_Week']"
   ]
  },
  {
   "cell_type": "code",
   "execution_count": 101,
   "metadata": {},
   "outputs": [
    {
     "data": {
      "text/html": [
       "<div>\n",
       "<style scoped>\n",
       "    .dataframe tbody tr th:only-of-type {\n",
       "        vertical-align: middle;\n",
       "    }\n",
       "\n",
       "    .dataframe tbody tr th {\n",
       "        vertical-align: top;\n",
       "    }\n",
       "\n",
       "    .dataframe thead th {\n",
       "        text-align: right;\n",
       "    }\n",
       "</style>\n",
       "<table border=\"1\" class=\"dataframe\">\n",
       "  <thead>\n",
       "    <tr style=\"text-align: right;\">\n",
       "      <th></th>\n",
       "      <th>Accident_Index</th>\n",
       "      <th>Longitude</th>\n",
       "      <th>Latitude</th>\n",
       "      <th>Police_Force</th>\n",
       "      <th>Accident_Severity</th>\n",
       "      <th>Number_of_Vehicles</th>\n",
       "      <th>Number_of_Casualties</th>\n",
       "      <th>Date</th>\n",
       "      <th>Day_of_Week</th>\n",
       "      <th>Time</th>\n",
       "      <th>...</th>\n",
       "      <th>Driver Journey Purpose</th>\n",
       "      <th>Sex_of_Driver</th>\n",
       "      <th>Age_of_Driver</th>\n",
       "      <th>Driver Age Band</th>\n",
       "      <th>Engine_Capacity_(CC)</th>\n",
       "      <th>Propulsion Code</th>\n",
       "      <th>Age_of_Vehicle</th>\n",
       "      <th>Driver_IMD_Decile</th>\n",
       "      <th>Driver_Home_Area_Type</th>\n",
       "      <th>Vehicle_IMD_Decile</th>\n",
       "    </tr>\n",
       "  </thead>\n",
       "  <tbody>\n",
       "    <tr>\n",
       "      <th>0</th>\n",
       "      <td>2019010128300</td>\n",
       "      <td>-0.153842</td>\n",
       "      <td>51.508057</td>\n",
       "      <td>1</td>\n",
       "      <td>3</td>\n",
       "      <td>2</td>\n",
       "      <td>3</td>\n",
       "      <td>18/02/2019</td>\n",
       "      <td>2</td>\n",
       "      <td>17:50</td>\n",
       "      <td>...</td>\n",
       "      <td>6</td>\n",
       "      <td>1</td>\n",
       "      <td>58</td>\n",
       "      <td>9</td>\n",
       "      <td>-1</td>\n",
       "      <td>-1</td>\n",
       "      <td>-1</td>\n",
       "      <td>2</td>\n",
       "      <td>1</td>\n",
       "      <td>2</td>\n",
       "    </tr>\n",
       "    <tr>\n",
       "      <th>1</th>\n",
       "      <td>2019010128300</td>\n",
       "      <td>-0.153842</td>\n",
       "      <td>51.508057</td>\n",
       "      <td>1</td>\n",
       "      <td>3</td>\n",
       "      <td>2</td>\n",
       "      <td>3</td>\n",
       "      <td>18/02/2019</td>\n",
       "      <td>2</td>\n",
       "      <td>17:50</td>\n",
       "      <td>...</td>\n",
       "      <td>6</td>\n",
       "      <td>3</td>\n",
       "      <td>-1</td>\n",
       "      <td>-1</td>\n",
       "      <td>-1</td>\n",
       "      <td>-1</td>\n",
       "      <td>-1</td>\n",
       "      <td>2</td>\n",
       "      <td>1</td>\n",
       "      <td>2</td>\n",
       "    </tr>\n",
       "    <tr>\n",
       "      <th>2</th>\n",
       "      <td>2019010152270</td>\n",
       "      <td>-0.127949</td>\n",
       "      <td>51.436208</td>\n",
       "      <td>1</td>\n",
       "      <td>3</td>\n",
       "      <td>2</td>\n",
       "      <td>1</td>\n",
       "      <td>15/01/2019</td>\n",
       "      <td>3</td>\n",
       "      <td>21:45</td>\n",
       "      <td>...</td>\n",
       "      <td>6</td>\n",
       "      <td>2</td>\n",
       "      <td>24</td>\n",
       "      <td>5</td>\n",
       "      <td>-1</td>\n",
       "      <td>-1</td>\n",
       "      <td>-1</td>\n",
       "      <td>3</td>\n",
       "      <td>1</td>\n",
       "      <td>3</td>\n",
       "    </tr>\n",
       "    <tr>\n",
       "      <th>3</th>\n",
       "      <td>2019010152270</td>\n",
       "      <td>-0.127949</td>\n",
       "      <td>51.436208</td>\n",
       "      <td>1</td>\n",
       "      <td>3</td>\n",
       "      <td>2</td>\n",
       "      <td>1</td>\n",
       "      <td>15/01/2019</td>\n",
       "      <td>3</td>\n",
       "      <td>21:45</td>\n",
       "      <td>...</td>\n",
       "      <td>6</td>\n",
       "      <td>3</td>\n",
       "      <td>-1</td>\n",
       "      <td>-1</td>\n",
       "      <td>-1</td>\n",
       "      <td>-1</td>\n",
       "      <td>-1</td>\n",
       "      <td>6</td>\n",
       "      <td>1</td>\n",
       "      <td>6</td>\n",
       "    </tr>\n",
       "    <tr>\n",
       "      <th>4</th>\n",
       "      <td>2019010155191</td>\n",
       "      <td>-0.124193</td>\n",
       "      <td>51.526795</td>\n",
       "      <td>1</td>\n",
       "      <td>3</td>\n",
       "      <td>2</td>\n",
       "      <td>1</td>\n",
       "      <td>01/01/2019</td>\n",
       "      <td>3</td>\n",
       "      <td>01:50</td>\n",
       "      <td>...</td>\n",
       "      <td>6</td>\n",
       "      <td>1</td>\n",
       "      <td>45</td>\n",
       "      <td>7</td>\n",
       "      <td>-1</td>\n",
       "      <td>-1</td>\n",
       "      <td>-1</td>\n",
       "      <td>4</td>\n",
       "      <td>1</td>\n",
       "      <td>4</td>\n",
       "    </tr>\n",
       "    <tr>\n",
       "      <th>...</th>\n",
       "      <td>...</td>\n",
       "      <td>...</td>\n",
       "      <td>...</td>\n",
       "      <td>...</td>\n",
       "      <td>...</td>\n",
       "      <td>...</td>\n",
       "      <td>...</td>\n",
       "      <td>...</td>\n",
       "      <td>...</td>\n",
       "      <td>...</td>\n",
       "      <td>...</td>\n",
       "      <td>...</td>\n",
       "      <td>...</td>\n",
       "      <td>...</td>\n",
       "      <td>...</td>\n",
       "      <td>...</td>\n",
       "      <td>...</td>\n",
       "      <td>...</td>\n",
       "      <td>...</td>\n",
       "      <td>...</td>\n",
       "      <td>...</td>\n",
       "    </tr>\n",
       "    <tr>\n",
       "      <th>216207</th>\n",
       "      <td>2019984107019</td>\n",
       "      <td>-2.983499</td>\n",
       "      <td>55.215407</td>\n",
       "      <td>98</td>\n",
       "      <td>3</td>\n",
       "      <td>4</td>\n",
       "      <td>1</td>\n",
       "      <td>30/05/2019</td>\n",
       "      <td>5</td>\n",
       "      <td>08:46</td>\n",
       "      <td>...</td>\n",
       "      <td>1</td>\n",
       "      <td>1</td>\n",
       "      <td>20</td>\n",
       "      <td>4</td>\n",
       "      <td>2198</td>\n",
       "      <td>2</td>\n",
       "      <td>4</td>\n",
       "      <td>5</td>\n",
       "      <td>3</td>\n",
       "      <td>5</td>\n",
       "    </tr>\n",
       "    <tr>\n",
       "      <th>216208</th>\n",
       "      <td>2019984107219</td>\n",
       "      <td>-3.274645</td>\n",
       "      <td>54.991685</td>\n",
       "      <td>98</td>\n",
       "      <td>3</td>\n",
       "      <td>2</td>\n",
       "      <td>1</td>\n",
       "      <td>21/06/2019</td>\n",
       "      <td>6</td>\n",
       "      <td>15:30</td>\n",
       "      <td>...</td>\n",
       "      <td>6</td>\n",
       "      <td>1</td>\n",
       "      <td>33</td>\n",
       "      <td>6</td>\n",
       "      <td>1997</td>\n",
       "      <td>2</td>\n",
       "      <td>12</td>\n",
       "      <td>3</td>\n",
       "      <td>2</td>\n",
       "      <td>3</td>\n",
       "    </tr>\n",
       "    <tr>\n",
       "      <th>216209</th>\n",
       "      <td>2019984107219</td>\n",
       "      <td>-3.274645</td>\n",
       "      <td>54.991685</td>\n",
       "      <td>98</td>\n",
       "      <td>3</td>\n",
       "      <td>2</td>\n",
       "      <td>1</td>\n",
       "      <td>21/06/2019</td>\n",
       "      <td>6</td>\n",
       "      <td>15:30</td>\n",
       "      <td>...</td>\n",
       "      <td>6</td>\n",
       "      <td>1</td>\n",
       "      <td>61</td>\n",
       "      <td>9</td>\n",
       "      <td>2967</td>\n",
       "      <td>2</td>\n",
       "      <td>5</td>\n",
       "      <td>7</td>\n",
       "      <td>3</td>\n",
       "      <td>7</td>\n",
       "    </tr>\n",
       "    <tr>\n",
       "      <th>216210</th>\n",
       "      <td>2019984107419</td>\n",
       "      <td>-2.997491</td>\n",
       "      <td>55.148292</td>\n",
       "      <td>98</td>\n",
       "      <td>3</td>\n",
       "      <td>1</td>\n",
       "      <td>1</td>\n",
       "      <td>29/06/2019</td>\n",
       "      <td>7</td>\n",
       "      <td>14:10</td>\n",
       "      <td>...</td>\n",
       "      <td>5</td>\n",
       "      <td>1</td>\n",
       "      <td>78</td>\n",
       "      <td>11</td>\n",
       "      <td>1597</td>\n",
       "      <td>2</td>\n",
       "      <td>6</td>\n",
       "      <td>8</td>\n",
       "      <td>3</td>\n",
       "      <td>8</td>\n",
       "    </tr>\n",
       "    <tr>\n",
       "      <th>216211</th>\n",
       "      <td>201998QC01004</td>\n",
       "      <td>-3.715064</td>\n",
       "      <td>55.357237</td>\n",
       "      <td>98</td>\n",
       "      <td>2</td>\n",
       "      <td>1</td>\n",
       "      <td>1</td>\n",
       "      <td>21/04/2019</td>\n",
       "      <td>1</td>\n",
       "      <td>12:45</td>\n",
       "      <td>...</td>\n",
       "      <td>6</td>\n",
       "      <td>1</td>\n",
       "      <td>55</td>\n",
       "      <td>8</td>\n",
       "      <td>599</td>\n",
       "      <td>1</td>\n",
       "      <td>20</td>\n",
       "      <td>4</td>\n",
       "      <td>1</td>\n",
       "      <td>4</td>\n",
       "    </tr>\n",
       "  </tbody>\n",
       "</table>\n",
       "<p>216212 rows × 55 columns</p>\n",
       "</div>"
      ],
      "text/plain": [
       "       Accident_Index  Longitude   Latitude  Police_Force  Accident_Severity  \\\n",
       "0       2019010128300  -0.153842  51.508057             1                  3   \n",
       "1       2019010128300  -0.153842  51.508057             1                  3   \n",
       "2       2019010152270  -0.127949  51.436208             1                  3   \n",
       "3       2019010152270  -0.127949  51.436208             1                  3   \n",
       "4       2019010155191  -0.124193  51.526795             1                  3   \n",
       "...               ...        ...        ...           ...                ...   \n",
       "216207  2019984107019  -2.983499  55.215407            98                  3   \n",
       "216208  2019984107219  -3.274645  54.991685            98                  3   \n",
       "216209  2019984107219  -3.274645  54.991685            98                  3   \n",
       "216210  2019984107419  -2.997491  55.148292            98                  3   \n",
       "216211  201998QC01004  -3.715064  55.357237            98                  2   \n",
       "\n",
       "        Number_of_Vehicles  Number_of_Casualties        Date  Day_of_Week  \\\n",
       "0                        2                     3  18/02/2019            2   \n",
       "1                        2                     3  18/02/2019            2   \n",
       "2                        2                     1  15/01/2019            3   \n",
       "3                        2                     1  15/01/2019            3   \n",
       "4                        2                     1  01/01/2019            3   \n",
       "...                    ...                   ...         ...          ...   \n",
       "216207                   4                     1  30/05/2019            5   \n",
       "216208                   2                     1  21/06/2019            6   \n",
       "216209                   2                     1  21/06/2019            6   \n",
       "216210                   1                     1  29/06/2019            7   \n",
       "216211                   1                     1  21/04/2019            1   \n",
       "\n",
       "         Time  ...  Driver Journey Purpose Sex_of_Driver  Age_of_Driver  \\\n",
       "0       17:50  ...                       6             1             58   \n",
       "1       17:50  ...                       6             3             -1   \n",
       "2       21:45  ...                       6             2             24   \n",
       "3       21:45  ...                       6             3             -1   \n",
       "4       01:50  ...                       6             1             45   \n",
       "...       ...  ...                     ...           ...            ...   \n",
       "216207  08:46  ...                       1             1             20   \n",
       "216208  15:30  ...                       6             1             33   \n",
       "216209  15:30  ...                       6             1             61   \n",
       "216210  14:10  ...                       5             1             78   \n",
       "216211  12:45  ...                       6             1             55   \n",
       "\n",
       "        Driver Age Band  Engine_Capacity_(CC)  Propulsion Code  \\\n",
       "0                     9                    -1               -1   \n",
       "1                    -1                    -1               -1   \n",
       "2                     5                    -1               -1   \n",
       "3                    -1                    -1               -1   \n",
       "4                     7                    -1               -1   \n",
       "...                 ...                   ...              ...   \n",
       "216207                4                  2198                2   \n",
       "216208                6                  1997                2   \n",
       "216209                9                  2967                2   \n",
       "216210               11                  1597                2   \n",
       "216211                8                   599                1   \n",
       "\n",
       "        Age_of_Vehicle  Driver_IMD_Decile  Driver_Home_Area_Type  \\\n",
       "0                   -1                  2                      1   \n",
       "1                   -1                  2                      1   \n",
       "2                   -1                  3                      1   \n",
       "3                   -1                  6                      1   \n",
       "4                   -1                  4                      1   \n",
       "...                ...                ...                    ...   \n",
       "216207               4                  5                      3   \n",
       "216208              12                  3                      2   \n",
       "216209               5                  7                      3   \n",
       "216210               6                  8                      3   \n",
       "216211              20                  4                      1   \n",
       "\n",
       "        Vehicle_IMD_Decile  \n",
       "0                        2  \n",
       "1                        2  \n",
       "2                        3  \n",
       "3                        6  \n",
       "4                        4  \n",
       "...                    ...  \n",
       "216207                   5  \n",
       "216208                   3  \n",
       "216209                   7  \n",
       "216210                   8  \n",
       "216211                   4  \n",
       "\n",
       "[216212 rows x 55 columns]"
      ]
     },
     "execution_count": 101,
     "metadata": {},
     "output_type": "execute_result"
    }
   ],
   "source": [
    "dataframe = Vehicle_accident.dropna()\n",
    "dataframe.reset_index(drop=True)"
   ]
  },
  {
   "cell_type": "code",
   "execution_count": 102,
   "metadata": {},
   "outputs": [
    {
     "data": {
      "text/html": [
       "<div>\n",
       "<style scoped>\n",
       "    .dataframe tbody tr th:only-of-type {\n",
       "        vertical-align: middle;\n",
       "    }\n",
       "\n",
       "    .dataframe tbody tr th {\n",
       "        vertical-align: top;\n",
       "    }\n",
       "\n",
       "    .dataframe thead th {\n",
       "        text-align: right;\n",
       "    }\n",
       "</style>\n",
       "<table border=\"1\" class=\"dataframe\">\n",
       "  <thead>\n",
       "    <tr style=\"text-align: right;\">\n",
       "      <th></th>\n",
       "      <th>Age_of_Driver</th>\n",
       "      <th>Driver Journey Purpose</th>\n",
       "      <th>Accident_Severity</th>\n",
       "      <th>Sex_of_Driver</th>\n",
       "      <th>Age_of_Vehicle</th>\n",
       "      <th>Day_of_Week</th>\n",
       "    </tr>\n",
       "  </thead>\n",
       "  <tbody>\n",
       "    <tr>\n",
       "      <th>0</th>\n",
       "      <td>58</td>\n",
       "      <td>6</td>\n",
       "      <td>3</td>\n",
       "      <td>1</td>\n",
       "      <td>-1</td>\n",
       "      <td>2</td>\n",
       "    </tr>\n",
       "    <tr>\n",
       "      <th>1</th>\n",
       "      <td>-1</td>\n",
       "      <td>6</td>\n",
       "      <td>3</td>\n",
       "      <td>3</td>\n",
       "      <td>-1</td>\n",
       "      <td>2</td>\n",
       "    </tr>\n",
       "    <tr>\n",
       "      <th>2</th>\n",
       "      <td>24</td>\n",
       "      <td>6</td>\n",
       "      <td>3</td>\n",
       "      <td>2</td>\n",
       "      <td>-1</td>\n",
       "      <td>3</td>\n",
       "    </tr>\n",
       "    <tr>\n",
       "      <th>3</th>\n",
       "      <td>-1</td>\n",
       "      <td>6</td>\n",
       "      <td>3</td>\n",
       "      <td>3</td>\n",
       "      <td>-1</td>\n",
       "      <td>3</td>\n",
       "    </tr>\n",
       "    <tr>\n",
       "      <th>4</th>\n",
       "      <td>45</td>\n",
       "      <td>6</td>\n",
       "      <td>3</td>\n",
       "      <td>1</td>\n",
       "      <td>-1</td>\n",
       "      <td>3</td>\n",
       "    </tr>\n",
       "    <tr>\n",
       "      <th>...</th>\n",
       "      <td>...</td>\n",
       "      <td>...</td>\n",
       "      <td>...</td>\n",
       "      <td>...</td>\n",
       "      <td>...</td>\n",
       "      <td>...</td>\n",
       "    </tr>\n",
       "    <tr>\n",
       "      <th>216376</th>\n",
       "      <td>20</td>\n",
       "      <td>1</td>\n",
       "      <td>3</td>\n",
       "      <td>1</td>\n",
       "      <td>4</td>\n",
       "      <td>5</td>\n",
       "    </tr>\n",
       "    <tr>\n",
       "      <th>216377</th>\n",
       "      <td>33</td>\n",
       "      <td>6</td>\n",
       "      <td>3</td>\n",
       "      <td>1</td>\n",
       "      <td>12</td>\n",
       "      <td>6</td>\n",
       "    </tr>\n",
       "    <tr>\n",
       "      <th>216378</th>\n",
       "      <td>61</td>\n",
       "      <td>6</td>\n",
       "      <td>3</td>\n",
       "      <td>1</td>\n",
       "      <td>5</td>\n",
       "      <td>6</td>\n",
       "    </tr>\n",
       "    <tr>\n",
       "      <th>216379</th>\n",
       "      <td>78</td>\n",
       "      <td>5</td>\n",
       "      <td>3</td>\n",
       "      <td>1</td>\n",
       "      <td>6</td>\n",
       "      <td>7</td>\n",
       "    </tr>\n",
       "    <tr>\n",
       "      <th>216380</th>\n",
       "      <td>55</td>\n",
       "      <td>6</td>\n",
       "      <td>2</td>\n",
       "      <td>1</td>\n",
       "      <td>20</td>\n",
       "      <td>1</td>\n",
       "    </tr>\n",
       "  </tbody>\n",
       "</table>\n",
       "<p>216212 rows × 6 columns</p>\n",
       "</div>"
      ],
      "text/plain": [
       "        Age_of_Driver  Driver Journey Purpose  Accident_Severity  \\\n",
       "0                  58                       6                  3   \n",
       "1                  -1                       6                  3   \n",
       "2                  24                       6                  3   \n",
       "3                  -1                       6                  3   \n",
       "4                  45                       6                  3   \n",
       "...               ...                     ...                ...   \n",
       "216376             20                       1                  3   \n",
       "216377             33                       6                  3   \n",
       "216378             61                       6                  3   \n",
       "216379             78                       5                  3   \n",
       "216380             55                       6                  2   \n",
       "\n",
       "        Sex_of_Driver  Age_of_Vehicle  Day_of_Week  \n",
       "0                   1              -1            2  \n",
       "1                   3              -1            2  \n",
       "2                   2              -1            3  \n",
       "3                   3              -1            3  \n",
       "4                   1              -1            3  \n",
       "...               ...             ...          ...  \n",
       "216376              1               4            5  \n",
       "216377              1              12            6  \n",
       "216378              1               5            6  \n",
       "216379              1               6            7  \n",
       "216380              1              20            1  \n",
       "\n",
       "[216212 rows x 6 columns]"
      ]
     },
     "execution_count": 102,
     "metadata": {},
     "output_type": "execute_result"
    }
   ],
   "source": [
    "df_filter = dataframe.filter( ['Age_of_Driver','Driver Journey Purpose','Accident_Severity','Sex_of_Driver','Age_of_Vehicle','Day_of_Week'], axis=1)\n",
    "df_filter"
   ]
  },
  {
   "cell_type": "code",
   "execution_count": 103,
   "metadata": {},
   "outputs": [
    {
     "data": {
      "text/html": [
       "<div>\n",
       "<style scoped>\n",
       "    .dataframe tbody tr th:only-of-type {\n",
       "        vertical-align: middle;\n",
       "    }\n",
       "\n",
       "    .dataframe tbody tr th {\n",
       "        vertical-align: top;\n",
       "    }\n",
       "\n",
       "    .dataframe thead th {\n",
       "        text-align: right;\n",
       "    }\n",
       "</style>\n",
       "<table border=\"1\" class=\"dataframe\">\n",
       "  <thead>\n",
       "    <tr style=\"text-align: right;\">\n",
       "      <th></th>\n",
       "      <th>Accident_Index</th>\n",
       "      <th>Longitude</th>\n",
       "      <th>Latitude</th>\n",
       "      <th>Police_Force</th>\n",
       "      <th>Accident_Severity</th>\n",
       "      <th>Number_of_Vehicles</th>\n",
       "      <th>Number_of_Casualties</th>\n",
       "      <th>Date</th>\n",
       "      <th>Day_of_Week</th>\n",
       "      <th>Time</th>\n",
       "      <th>...</th>\n",
       "      <th>Driver Journey Purpose</th>\n",
       "      <th>Sex_of_Driver</th>\n",
       "      <th>Age_of_Driver</th>\n",
       "      <th>Driver Age Band</th>\n",
       "      <th>Engine_Capacity_(CC)</th>\n",
       "      <th>Propulsion Code</th>\n",
       "      <th>Age_of_Vehicle</th>\n",
       "      <th>Driver_IMD_Decile</th>\n",
       "      <th>Driver_Home_Area_Type</th>\n",
       "      <th>Vehicle_IMD_Decile</th>\n",
       "    </tr>\n",
       "  </thead>\n",
       "  <tbody>\n",
       "    <tr>\n",
       "      <th>15</th>\n",
       "      <td>2019010155206</td>\n",
       "      <td>0.141957</td>\n",
       "      <td>51.572326</td>\n",
       "      <td>1</td>\n",
       "      <td>3</td>\n",
       "      <td>2</td>\n",
       "      <td>1</td>\n",
       "      <td>01/01/2019</td>\n",
       "      <td>3</td>\n",
       "      <td>01:15</td>\n",
       "      <td>...</td>\n",
       "      <td>6</td>\n",
       "      <td>2</td>\n",
       "      <td>81</td>\n",
       "      <td>11</td>\n",
       "      <td>1242</td>\n",
       "      <td>1</td>\n",
       "      <td>4</td>\n",
       "      <td>-1</td>\n",
       "      <td>-1</td>\n",
       "      <td>-1</td>\n",
       "    </tr>\n",
       "    <tr>\n",
       "      <th>21</th>\n",
       "      <td>2019010155210</td>\n",
       "      <td>-0.021065</td>\n",
       "      <td>51.533238</td>\n",
       "      <td>1</td>\n",
       "      <td>1</td>\n",
       "      <td>1</td>\n",
       "      <td>1</td>\n",
       "      <td>01/01/2019</td>\n",
       "      <td>3</td>\n",
       "      <td>03:00</td>\n",
       "      <td>...</td>\n",
       "      <td>1</td>\n",
       "      <td>1</td>\n",
       "      <td>33</td>\n",
       "      <td>6</td>\n",
       "      <td>2198</td>\n",
       "      <td>2</td>\n",
       "      <td>4</td>\n",
       "      <td>-1</td>\n",
       "      <td>-1</td>\n",
       "      <td>-1</td>\n",
       "    </tr>\n",
       "    <tr>\n",
       "      <th>24</th>\n",
       "      <td>2019010155217</td>\n",
       "      <td>0.070277</td>\n",
       "      <td>51.557075</td>\n",
       "      <td>1</td>\n",
       "      <td>2</td>\n",
       "      <td>2</td>\n",
       "      <td>1</td>\n",
       "      <td>01/01/2019</td>\n",
       "      <td>3</td>\n",
       "      <td>04:10</td>\n",
       "      <td>...</td>\n",
       "      <td>1</td>\n",
       "      <td>1</td>\n",
       "      <td>30</td>\n",
       "      <td>6</td>\n",
       "      <td>1499</td>\n",
       "      <td>1</td>\n",
       "      <td>1</td>\n",
       "      <td>-1</td>\n",
       "      <td>-1</td>\n",
       "      <td>-1</td>\n",
       "    </tr>\n",
       "    <tr>\n",
       "      <th>105</th>\n",
       "      <td>2019010155425</td>\n",
       "      <td>-0.078765</td>\n",
       "      <td>51.561751</td>\n",
       "      <td>1</td>\n",
       "      <td>3</td>\n",
       "      <td>1</td>\n",
       "      <td>1</td>\n",
       "      <td>02/01/2019</td>\n",
       "      <td>4</td>\n",
       "      <td>15:07</td>\n",
       "      <td>...</td>\n",
       "      <td>6</td>\n",
       "      <td>1</td>\n",
       "      <td>23</td>\n",
       "      <td>5</td>\n",
       "      <td>2996</td>\n",
       "      <td>1</td>\n",
       "      <td>1</td>\n",
       "      <td>2</td>\n",
       "      <td>1</td>\n",
       "      <td>2</td>\n",
       "    </tr>\n",
       "    <tr>\n",
       "      <th>181</th>\n",
       "      <td>2019010155627</td>\n",
       "      <td>-0.264403</td>\n",
       "      <td>51.498486</td>\n",
       "      <td>1</td>\n",
       "      <td>2</td>\n",
       "      <td>2</td>\n",
       "      <td>1</td>\n",
       "      <td>03/01/2019</td>\n",
       "      <td>5</td>\n",
       "      <td>18:45</td>\n",
       "      <td>...</td>\n",
       "      <td>1</td>\n",
       "      <td>1</td>\n",
       "      <td>25</td>\n",
       "      <td>5</td>\n",
       "      <td>125</td>\n",
       "      <td>1</td>\n",
       "      <td>1</td>\n",
       "      <td>-1</td>\n",
       "      <td>-1</td>\n",
       "      <td>-1</td>\n",
       "    </tr>\n",
       "    <tr>\n",
       "      <th>...</th>\n",
       "      <td>...</td>\n",
       "      <td>...</td>\n",
       "      <td>...</td>\n",
       "      <td>...</td>\n",
       "      <td>...</td>\n",
       "      <td>...</td>\n",
       "      <td>...</td>\n",
       "      <td>...</td>\n",
       "      <td>...</td>\n",
       "      <td>...</td>\n",
       "      <td>...</td>\n",
       "      <td>...</td>\n",
       "      <td>...</td>\n",
       "      <td>...</td>\n",
       "      <td>...</td>\n",
       "      <td>...</td>\n",
       "      <td>...</td>\n",
       "      <td>...</td>\n",
       "      <td>...</td>\n",
       "      <td>...</td>\n",
       "      <td>...</td>\n",
       "    </tr>\n",
       "    <tr>\n",
       "      <th>216376</th>\n",
       "      <td>2019984107019</td>\n",
       "      <td>-2.983499</td>\n",
       "      <td>55.215407</td>\n",
       "      <td>98</td>\n",
       "      <td>3</td>\n",
       "      <td>4</td>\n",
       "      <td>1</td>\n",
       "      <td>30/05/2019</td>\n",
       "      <td>5</td>\n",
       "      <td>08:46</td>\n",
       "      <td>...</td>\n",
       "      <td>1</td>\n",
       "      <td>1</td>\n",
       "      <td>20</td>\n",
       "      <td>4</td>\n",
       "      <td>2198</td>\n",
       "      <td>2</td>\n",
       "      <td>4</td>\n",
       "      <td>5</td>\n",
       "      <td>3</td>\n",
       "      <td>5</td>\n",
       "    </tr>\n",
       "    <tr>\n",
       "      <th>216377</th>\n",
       "      <td>2019984107219</td>\n",
       "      <td>-3.274645</td>\n",
       "      <td>54.991685</td>\n",
       "      <td>98</td>\n",
       "      <td>3</td>\n",
       "      <td>2</td>\n",
       "      <td>1</td>\n",
       "      <td>21/06/2019</td>\n",
       "      <td>6</td>\n",
       "      <td>15:30</td>\n",
       "      <td>...</td>\n",
       "      <td>6</td>\n",
       "      <td>1</td>\n",
       "      <td>33</td>\n",
       "      <td>6</td>\n",
       "      <td>1997</td>\n",
       "      <td>2</td>\n",
       "      <td>12</td>\n",
       "      <td>3</td>\n",
       "      <td>2</td>\n",
       "      <td>3</td>\n",
       "    </tr>\n",
       "    <tr>\n",
       "      <th>216378</th>\n",
       "      <td>2019984107219</td>\n",
       "      <td>-3.274645</td>\n",
       "      <td>54.991685</td>\n",
       "      <td>98</td>\n",
       "      <td>3</td>\n",
       "      <td>2</td>\n",
       "      <td>1</td>\n",
       "      <td>21/06/2019</td>\n",
       "      <td>6</td>\n",
       "      <td>15:30</td>\n",
       "      <td>...</td>\n",
       "      <td>6</td>\n",
       "      <td>1</td>\n",
       "      <td>61</td>\n",
       "      <td>9</td>\n",
       "      <td>2967</td>\n",
       "      <td>2</td>\n",
       "      <td>5</td>\n",
       "      <td>7</td>\n",
       "      <td>3</td>\n",
       "      <td>7</td>\n",
       "    </tr>\n",
       "    <tr>\n",
       "      <th>216379</th>\n",
       "      <td>2019984107419</td>\n",
       "      <td>-2.997491</td>\n",
       "      <td>55.148292</td>\n",
       "      <td>98</td>\n",
       "      <td>3</td>\n",
       "      <td>1</td>\n",
       "      <td>1</td>\n",
       "      <td>29/06/2019</td>\n",
       "      <td>7</td>\n",
       "      <td>14:10</td>\n",
       "      <td>...</td>\n",
       "      <td>5</td>\n",
       "      <td>1</td>\n",
       "      <td>78</td>\n",
       "      <td>11</td>\n",
       "      <td>1597</td>\n",
       "      <td>2</td>\n",
       "      <td>6</td>\n",
       "      <td>8</td>\n",
       "      <td>3</td>\n",
       "      <td>8</td>\n",
       "    </tr>\n",
       "    <tr>\n",
       "      <th>216380</th>\n",
       "      <td>201998QC01004</td>\n",
       "      <td>-3.715064</td>\n",
       "      <td>55.357237</td>\n",
       "      <td>98</td>\n",
       "      <td>2</td>\n",
       "      <td>1</td>\n",
       "      <td>1</td>\n",
       "      <td>21/04/2019</td>\n",
       "      <td>1</td>\n",
       "      <td>12:45</td>\n",
       "      <td>...</td>\n",
       "      <td>6</td>\n",
       "      <td>1</td>\n",
       "      <td>55</td>\n",
       "      <td>8</td>\n",
       "      <td>599</td>\n",
       "      <td>1</td>\n",
       "      <td>20</td>\n",
       "      <td>4</td>\n",
       "      <td>1</td>\n",
       "      <td>4</td>\n",
       "    </tr>\n",
       "  </tbody>\n",
       "</table>\n",
       "<p>140121 rows × 55 columns</p>\n",
       "</div>"
      ],
      "text/plain": [
       "       Accident_Index  Longitude   Latitude  Police_Force  Accident_Severity  \\\n",
       "15      2019010155206   0.141957  51.572326             1                  3   \n",
       "21      2019010155210  -0.021065  51.533238             1                  1   \n",
       "24      2019010155217   0.070277  51.557075             1                  2   \n",
       "105     2019010155425  -0.078765  51.561751             1                  3   \n",
       "181     2019010155627  -0.264403  51.498486             1                  2   \n",
       "...               ...        ...        ...           ...                ...   \n",
       "216376  2019984107019  -2.983499  55.215407            98                  3   \n",
       "216377  2019984107219  -3.274645  54.991685            98                  3   \n",
       "216378  2019984107219  -3.274645  54.991685            98                  3   \n",
       "216379  2019984107419  -2.997491  55.148292            98                  3   \n",
       "216380  201998QC01004  -3.715064  55.357237            98                  2   \n",
       "\n",
       "        Number_of_Vehicles  Number_of_Casualties        Date  Day_of_Week  \\\n",
       "15                       2                     1  01/01/2019            3   \n",
       "21                       1                     1  01/01/2019            3   \n",
       "24                       2                     1  01/01/2019            3   \n",
       "105                      1                     1  02/01/2019            4   \n",
       "181                      2                     1  03/01/2019            5   \n",
       "...                    ...                   ...         ...          ...   \n",
       "216376                   4                     1  30/05/2019            5   \n",
       "216377                   2                     1  21/06/2019            6   \n",
       "216378                   2                     1  21/06/2019            6   \n",
       "216379                   1                     1  29/06/2019            7   \n",
       "216380                   1                     1  21/04/2019            1   \n",
       "\n",
       "         Time  ...  Driver Journey Purpose Sex_of_Driver  Age_of_Driver  \\\n",
       "15      01:15  ...                       6             2             81   \n",
       "21      03:00  ...                       1             1             33   \n",
       "24      04:10  ...                       1             1             30   \n",
       "105     15:07  ...                       6             1             23   \n",
       "181     18:45  ...                       1             1             25   \n",
       "...       ...  ...                     ...           ...            ...   \n",
       "216376  08:46  ...                       1             1             20   \n",
       "216377  15:30  ...                       6             1             33   \n",
       "216378  15:30  ...                       6             1             61   \n",
       "216379  14:10  ...                       5             1             78   \n",
       "216380  12:45  ...                       6             1             55   \n",
       "\n",
       "        Driver Age Band  Engine_Capacity_(CC)  Propulsion Code  \\\n",
       "15                   11                  1242                1   \n",
       "21                    6                  2198                2   \n",
       "24                    6                  1499                1   \n",
       "105                   5                  2996                1   \n",
       "181                   5                   125                1   \n",
       "...                 ...                   ...              ...   \n",
       "216376                4                  2198                2   \n",
       "216377                6                  1997                2   \n",
       "216378                9                  2967                2   \n",
       "216379               11                  1597                2   \n",
       "216380                8                   599                1   \n",
       "\n",
       "        Age_of_Vehicle  Driver_IMD_Decile  Driver_Home_Area_Type  \\\n",
       "15                   4                 -1                     -1   \n",
       "21                   4                 -1                     -1   \n",
       "24                   1                 -1                     -1   \n",
       "105                  1                  2                      1   \n",
       "181                  1                 -1                     -1   \n",
       "...                ...                ...                    ...   \n",
       "216376               4                  5                      3   \n",
       "216377              12                  3                      2   \n",
       "216378               5                  7                      3   \n",
       "216379               6                  8                      3   \n",
       "216380              20                  4                      1   \n",
       "\n",
       "        Vehicle_IMD_Decile  \n",
       "15                      -1  \n",
       "21                      -1  \n",
       "24                      -1  \n",
       "105                      2  \n",
       "181                     -1  \n",
       "...                    ...  \n",
       "216376                   5  \n",
       "216377                   3  \n",
       "216378                   7  \n",
       "216379                   8  \n",
       "216380                   4  \n",
       "\n",
       "[140121 rows x 55 columns]"
      ]
     },
     "execution_count": 103,
     "metadata": {},
     "output_type": "execute_result"
    }
   ],
   "source": [
    "df = dataframe[(dataframe['Age_of_Driver'] > 0) & (dataframe['Driver Journey Purpose'] > 0) & (dataframe['Sex_of_Driver'] > 0) & (dataframe['Age_of_Vehicle'] > 0)& (dataframe['Day_of_Week'] > 0)]\n",
    "df"
   ]
  },
  {
   "cell_type": "code",
   "execution_count": 104,
   "metadata": {},
   "outputs": [
    {
     "data": {
      "image/png": "[encoded data removed]",
      "text/plain": [
       "<Figure size 432x288 with 1 Axes>"
      ]
     },
     "metadata": {
      "needs_background": "light"
     },
     "output_type": "display_data"
    }
   ],
   "source": [
    "# Perform the feature selection\n",
    "selection = SelectKBest(f_classif, k=\"all\")\n",
    "selection.fit(dataframe[predict], dataframe[\"Accident_Severity\"])\n",
    "\n",
    "# We will get the p-values for each feature and then transform from p-values into some scores\n",
    "df_scores = -np.log10(selection.pvalues_)\n",
    "# Using plt to plot the scores  \n",
    "plt.bar(range(len(predict)), df_scores)\n",
    "plt.xticks(range(len(predict)), predict, rotation='vertical')\n",
    "plt.show()"
   ]
  },
  {
   "cell_type": "code",
   "execution_count": null,
   "metadata": {},
   "outputs": [],
   "source": []
  },
  {
   "cell_type": "markdown",
   "metadata": {},
   "source": [
    "# Can we make predictions about when and where accidents will occur, and the severity of the injuries sustained from the data supplied to improve road safety? How well do our models compare to government models?"
   ]
  },
  {
   "cell_type": "code",
   "execution_count": 105,
   "metadata": {},
   "outputs": [],
   "source": [
    "my_df = accident.merge(vehicles, on=\"Accident_Index\")"
   ]
  },
  {
   "cell_type": "code",
   "execution_count": 106,
   "metadata": {},
   "outputs": [],
   "source": [
    "my_data = my_df.merge(casualities, on=\"Accident_Index\")"
   ]
  },
  {
   "cell_type": "code",
   "execution_count": 107,
   "metadata": {},
   "outputs": [
    {
     "data": {
      "text/plain": [
       "Accident_Index                         0\n",
       "Longitude                             83\n",
       "Latitude                              83\n",
       "Police_Force                           0\n",
       "Accident_Severity                      0\n",
       "                                      ..\n",
       "Bus or Coach Passenger                 0\n",
       "Pedestrian Road Maintenance Worker     0\n",
       "Casualty_Type                          0\n",
       "Casualty Home Area Type                0\n",
       "Casualty IMD Decile                    0\n",
       "Length: 70, dtype: int64"
      ]
     },
     "execution_count": 107,
     "metadata": {},
     "output_type": "execute_result"
    }
   ],
   "source": [
    "my_data.isnull().sum()"
   ]
  },
  {
   "cell_type": "code",
   "execution_count": 108,
   "metadata": {},
   "outputs": [
    {
     "data": {
      "text/plain": [
       "Accident_Severity        1.000000\n",
       "Casualty_Severity        0.826459\n",
       "Police Officer Attend    0.154321\n",
       "Sex_of_Driver            0.082202\n",
       "2nd_Road_Class           0.071022\n",
       "                           ...   \n",
       "Vehicle_Manoeuvre       -0.125144\n",
       "Casualty_Reference      -0.126162\n",
       "Speed_limit             -0.139709\n",
       "Urban Rural             -0.141979\n",
       "Number_of_Casualties    -0.180308\n",
       "Name: Accident_Severity, Length: 70, dtype: float64"
      ]
     },
     "execution_count": 108,
     "metadata": {},
     "output_type": "execute_result"
    }
   ],
   "source": [
    "#correlation by accident severity using pearson\n",
    "corr_df=my_data.apply(LabelEncoder().fit_transform)\n",
    "standard_sc = StandardScaler()\n",
    "corrl_df = standard_sc.fit_transform(corr_df)\n",
    "correl_df=pd.DataFrame(data=corrl_df,columns=my_data.columns)\n",
    "corr_data=correl_df.corr()[\"Accident_Severity\"]\n",
    "corr_data[np.argsort(corr_data,axis=0)[::-1]]"
   ]
  },
  {
   "cell_type": "code",
   "execution_count": 109,
   "metadata": {},
   "outputs": [],
   "source": [
    "features = [\"Casualty_Severity\",\"Accident_Severity\",\"Sex_of_Driver\",\"Police Officer Attend\",\"2nd_Road_Class\",\"Location_Easting_OSGR\",\"Junction_Control\",\"Weather\",\"Casualty_Type\",\"Junction_Detail\",\"Ped Cross - Physical\",\"Journey Purpose\",\"1st_Road_Class\",\"Vehicle_Type\",\"Number_of_Vehicles\",\"2nd_Road_Number\",\"Engine_Capacity_(CC)\",\"Day_of_Week\",\"Junction_Location\",\"1st_Point_of_Impact\"]"
   ]
  },
  {
   "cell_type": "code",
   "execution_count": 110,
   "metadata": {},
   "outputs": [
    {
     "data": {
      "text/plain": [
       "['Casualty_Severity',\n",
       " 'Accident_Severity',\n",
       " 'Sex_of_Driver',\n",
       " 'Police Officer Attend',\n",
       " '2nd_Road_Class',\n",
       " 'Location_Easting_OSGR',\n",
       " 'Junction_Control',\n",
       " 'Weather',\n",
       " 'Casualty_Type',\n",
       " 'Junction_Detail',\n",
       " 'Ped Cross - Physical',\n",
       " 'Journey Purpose',\n",
       " '1st_Road_Class',\n",
       " 'Vehicle_Type',\n",
       " 'Number_of_Vehicles',\n",
       " '2nd_Road_Number',\n",
       " 'Engine_Capacity_(CC)',\n",
       " 'Day_of_Week',\n",
       " 'Junction_Location',\n",
       " '1st_Point_of_Impact']"
      ]
     },
     "execution_count": 110,
     "metadata": {},
     "output_type": "execute_result"
    }
   ],
   "source": [
    "features"
   ]
  },
  {
   "cell_type": "code",
   "execution_count": 111,
   "metadata": {},
   "outputs": [],
   "source": [
    "data_d = my_data.filter(features,  axis=1)"
   ]
  },
  {
   "cell_type": "code",
   "execution_count": 112,
   "metadata": {},
   "outputs": [
    {
     "data": {
      "text/plain": [
       "Casualty_Severity        0\n",
       "Accident_Severity        0\n",
       "Sex_of_Driver            0\n",
       "Police Officer Attend    0\n",
       "2nd_Road_Class           0\n",
       "Junction_Control         0\n",
       "Weather                  0\n",
       "Casualty_Type            0\n",
       "Junction_Detail          0\n",
       "Ped Cross - Physical     0\n",
       "1st_Road_Class           0\n",
       "Vehicle_Type             0\n",
       "Number_of_Vehicles       0\n",
       "2nd_Road_Number          0\n",
       "Engine_Capacity_(CC)     0\n",
       "Day_of_Week              0\n",
       "Junction_Location        0\n",
       "1st_Point_of_Impact      0\n",
       "dtype: int64"
      ]
     },
     "execution_count": 112,
     "metadata": {},
     "output_type": "execute_result"
    }
   ],
   "source": [
    "data_d.isnull().sum()"
   ]
  },
  {
   "cell_type": "code",
   "execution_count": 113,
   "metadata": {},
   "outputs": [
    {
     "name": "stdout",
     "output_type": "stream",
     "text": [
      "<class 'pandas.core.frame.DataFrame'>\n",
      "Int64Index: 295579 entries, 0 to 295578\n",
      "Data columns (total 18 columns):\n",
      " #   Column                 Non-Null Count   Dtype\n",
      "---  ------                 --------------   -----\n",
      " 0   Casualty_Severity      295579 non-null  int64\n",
      " 1   Accident_Severity      295579 non-null  int64\n",
      " 2   Sex_of_Driver          295579 non-null  int64\n",
      " 3   Police Officer Attend  295579 non-null  int64\n",
      " 4   2nd_Road_Class         295579 non-null  int64\n",
      " 5   Junction_Control       295579 non-null  int64\n",
      " 6   Weather                295579 non-null  int64\n",
      " 7   Casualty_Type          295579 non-null  int64\n",
      " 8   Junction_Detail        295579 non-null  int64\n",
      " 9   Ped Cross - Physical   295579 non-null  int64\n",
      " 10  1st_Road_Class         295579 non-null  int64\n",
      " 11  Vehicle_Type           295579 non-null  int64\n",
      " 12  Number_of_Vehicles     295579 non-null  int64\n",
      " 13  2nd_Road_Number        295579 non-null  int64\n",
      " 14  Engine_Capacity_(CC)   295579 non-null  int64\n",
      " 15  Day_of_Week            295579 non-null  int64\n",
      " 16  Junction_Location      295579 non-null  int64\n",
      " 17  1st_Point_of_Impact    295579 non-null  int64\n",
      "dtypes: int64(18)\n",
      "memory usage: 42.8 MB\n"
     ]
    }
   ],
   "source": [
    "data_d.info()"
   ]
  },
  {
   "cell_type": "code",
   "execution_count": 114,
   "metadata": {},
   "outputs": [],
   "source": [
    "#data_set = data_d[ (data_d[\"Casualty_Severity\"] > 0) & (data_d[\"Police Officer Attend\"] > 0) &  (data_d[\"Sex_of_Driver\"] > 0) & (data_d[\"2nd_Road_Class\"] > 0) & (data_d[\"Location_Easting_OSGR\"] > 0) & (data_d[\"Longitude\"] > 0) & (data_d[\"Weather\"] > 0) & (data_d[\"Casualty_Type\"] > 0) & (data_d[\"Junction_Detail\"] > 0) & (data_d[\"2nd_Road_Number\"] > 0) & (data_d[\"Vehicle Propulsion Code\"] > 0) & (data_d[\"Ped Cross - Physical\"] > 0) &  (data_d[\"Journey Purpose\"] > 0) &(data_d[\"1st_Road_Class\"] > 0) &(data_d[\"Vehicle_Type\"] > 0) & (data_d[\"Number_of_Vehicles\"] > 0) & (data_d[\"Engine_Capacity_(CC)\"] > 0) & (data_d[\"Day_of_Week\"] > 0) & (data_d[\"Junction_Location\"] > 0) & (data_d[\"1st_Point_of_Impact\"] > 0) ]"
   ]
  },
  {
   "cell_type": "code",
   "execution_count": 115,
   "metadata": {},
   "outputs": [],
   "source": [
    "y = data_d[\"Accident_Severity\"].values"
   ]
  },
  {
   "cell_type": "code",
   "execution_count": 116,
   "metadata": {},
   "outputs": [],
   "source": [
    "x = data_d.drop(\"Accident_Severity\", axis=1)"
   ]
  },
  {
   "cell_type": "code",
   "execution_count": 117,
   "metadata": {},
   "outputs": [
    {
     "data": {
      "text/html": [
       "<div>\n",
       "<style scoped>\n",
       "    .dataframe tbody tr th:only-of-type {\n",
       "        vertical-align: middle;\n",
       "    }\n",
       "\n",
       "    .dataframe tbody tr th {\n",
       "        vertical-align: top;\n",
       "    }\n",
       "\n",
       "    .dataframe thead th {\n",
       "        text-align: right;\n",
       "    }\n",
       "</style>\n",
       "<table border=\"1\" class=\"dataframe\">\n",
       "  <thead>\n",
       "    <tr style=\"text-align: right;\">\n",
       "      <th></th>\n",
       "      <th>Casualty_Severity</th>\n",
       "      <th>Sex_of_Driver</th>\n",
       "      <th>Police Officer Attend</th>\n",
       "      <th>2nd_Road_Class</th>\n",
       "      <th>Junction_Control</th>\n",
       "      <th>Weather</th>\n",
       "      <th>Casualty_Type</th>\n",
       "      <th>Junction_Detail</th>\n",
       "      <th>Ped Cross - Physical</th>\n",
       "      <th>1st_Road_Class</th>\n",
       "      <th>Vehicle_Type</th>\n",
       "      <th>Number_of_Vehicles</th>\n",
       "      <th>2nd_Road_Number</th>\n",
       "      <th>Engine_Capacity_(CC)</th>\n",
       "      <th>Day_of_Week</th>\n",
       "      <th>Junction_Location</th>\n",
       "      <th>1st_Point_of_Impact</th>\n",
       "    </tr>\n",
       "  </thead>\n",
       "  <tbody>\n",
       "    <tr>\n",
       "      <th>0</th>\n",
       "      <td>3</td>\n",
       "      <td>1</td>\n",
       "      <td>3</td>\n",
       "      <td>3</td>\n",
       "      <td>2</td>\n",
       "      <td>1</td>\n",
       "      <td>9</td>\n",
       "      <td>1</td>\n",
       "      <td>5</td>\n",
       "      <td>3</td>\n",
       "      <td>9</td>\n",
       "      <td>2</td>\n",
       "      <td>4202</td>\n",
       "      <td>-1</td>\n",
       "      <td>2</td>\n",
       "      <td>-1</td>\n",
       "      <td>4</td>\n",
       "    </tr>\n",
       "    <tr>\n",
       "      <th>1</th>\n",
       "      <td>3</td>\n",
       "      <td>1</td>\n",
       "      <td>3</td>\n",
       "      <td>3</td>\n",
       "      <td>2</td>\n",
       "      <td>1</td>\n",
       "      <td>9</td>\n",
       "      <td>1</td>\n",
       "      <td>5</td>\n",
       "      <td>3</td>\n",
       "      <td>9</td>\n",
       "      <td>2</td>\n",
       "      <td>4202</td>\n",
       "      <td>-1</td>\n",
       "      <td>2</td>\n",
       "      <td>-1</td>\n",
       "      <td>4</td>\n",
       "    </tr>\n",
       "    <tr>\n",
       "      <th>2</th>\n",
       "      <td>3</td>\n",
       "      <td>1</td>\n",
       "      <td>3</td>\n",
       "      <td>3</td>\n",
       "      <td>2</td>\n",
       "      <td>1</td>\n",
       "      <td>9</td>\n",
       "      <td>1</td>\n",
       "      <td>5</td>\n",
       "      <td>3</td>\n",
       "      <td>9</td>\n",
       "      <td>2</td>\n",
       "      <td>4202</td>\n",
       "      <td>-1</td>\n",
       "      <td>2</td>\n",
       "      <td>-1</td>\n",
       "      <td>4</td>\n",
       "    </tr>\n",
       "    <tr>\n",
       "      <th>3</th>\n",
       "      <td>3</td>\n",
       "      <td>3</td>\n",
       "      <td>3</td>\n",
       "      <td>3</td>\n",
       "      <td>2</td>\n",
       "      <td>1</td>\n",
       "      <td>9</td>\n",
       "      <td>1</td>\n",
       "      <td>5</td>\n",
       "      <td>3</td>\n",
       "      <td>9</td>\n",
       "      <td>2</td>\n",
       "      <td>4202</td>\n",
       "      <td>-1</td>\n",
       "      <td>2</td>\n",
       "      <td>-1</td>\n",
       "      <td>-1</td>\n",
       "    </tr>\n",
       "    <tr>\n",
       "      <th>4</th>\n",
       "      <td>3</td>\n",
       "      <td>3</td>\n",
       "      <td>3</td>\n",
       "      <td>3</td>\n",
       "      <td>2</td>\n",
       "      <td>1</td>\n",
       "      <td>9</td>\n",
       "      <td>1</td>\n",
       "      <td>5</td>\n",
       "      <td>3</td>\n",
       "      <td>9</td>\n",
       "      <td>2</td>\n",
       "      <td>4202</td>\n",
       "      <td>-1</td>\n",
       "      <td>2</td>\n",
       "      <td>-1</td>\n",
       "      <td>-1</td>\n",
       "    </tr>\n",
       "    <tr>\n",
       "      <th>...</th>\n",
       "      <td>...</td>\n",
       "      <td>...</td>\n",
       "      <td>...</td>\n",
       "      <td>...</td>\n",
       "      <td>...</td>\n",
       "      <td>...</td>\n",
       "      <td>...</td>\n",
       "      <td>...</td>\n",
       "      <td>...</td>\n",
       "      <td>...</td>\n",
       "      <td>...</td>\n",
       "      <td>...</td>\n",
       "      <td>...</td>\n",
       "      <td>...</td>\n",
       "      <td>...</td>\n",
       "      <td>...</td>\n",
       "      <td>...</td>\n",
       "    </tr>\n",
       "    <tr>\n",
       "      <th>295574</th>\n",
       "      <td>3</td>\n",
       "      <td>1</td>\n",
       "      <td>1</td>\n",
       "      <td>-1</td>\n",
       "      <td>-1</td>\n",
       "      <td>1</td>\n",
       "      <td>19</td>\n",
       "      <td>0</td>\n",
       "      <td>0</td>\n",
       "      <td>3</td>\n",
       "      <td>19</td>\n",
       "      <td>4</td>\n",
       "      <td>0</td>\n",
       "      <td>2198</td>\n",
       "      <td>5</td>\n",
       "      <td>0</td>\n",
       "      <td>3</td>\n",
       "    </tr>\n",
       "    <tr>\n",
       "      <th>295575</th>\n",
       "      <td>3</td>\n",
       "      <td>1</td>\n",
       "      <td>2</td>\n",
       "      <td>4</td>\n",
       "      <td>4</td>\n",
       "      <td>1</td>\n",
       "      <td>9</td>\n",
       "      <td>3</td>\n",
       "      <td>0</td>\n",
       "      <td>4</td>\n",
       "      <td>9</td>\n",
       "      <td>2</td>\n",
       "      <td>721</td>\n",
       "      <td>1997</td>\n",
       "      <td>6</td>\n",
       "      <td>1</td>\n",
       "      <td>1</td>\n",
       "    </tr>\n",
       "    <tr>\n",
       "      <th>295576</th>\n",
       "      <td>3</td>\n",
       "      <td>1</td>\n",
       "      <td>2</td>\n",
       "      <td>4</td>\n",
       "      <td>4</td>\n",
       "      <td>1</td>\n",
       "      <td>9</td>\n",
       "      <td>3</td>\n",
       "      <td>0</td>\n",
       "      <td>4</td>\n",
       "      <td>9</td>\n",
       "      <td>2</td>\n",
       "      <td>721</td>\n",
       "      <td>2967</td>\n",
       "      <td>6</td>\n",
       "      <td>1</td>\n",
       "      <td>0</td>\n",
       "    </tr>\n",
       "    <tr>\n",
       "      <th>295577</th>\n",
       "      <td>3</td>\n",
       "      <td>1</td>\n",
       "      <td>2</td>\n",
       "      <td>6</td>\n",
       "      <td>4</td>\n",
       "      <td>1</td>\n",
       "      <td>0</td>\n",
       "      <td>3</td>\n",
       "      <td>0</td>\n",
       "      <td>6</td>\n",
       "      <td>9</td>\n",
       "      <td>1</td>\n",
       "      <td>723</td>\n",
       "      <td>1597</td>\n",
       "      <td>7</td>\n",
       "      <td>6</td>\n",
       "      <td>3</td>\n",
       "    </tr>\n",
       "    <tr>\n",
       "      <th>295578</th>\n",
       "      <td>2</td>\n",
       "      <td>1</td>\n",
       "      <td>1</td>\n",
       "      <td>-1</td>\n",
       "      <td>-1</td>\n",
       "      <td>1</td>\n",
       "      <td>5</td>\n",
       "      <td>0</td>\n",
       "      <td>0</td>\n",
       "      <td>3</td>\n",
       "      <td>5</td>\n",
       "      <td>1</td>\n",
       "      <td>0</td>\n",
       "      <td>599</td>\n",
       "      <td>1</td>\n",
       "      <td>0</td>\n",
       "      <td>4</td>\n",
       "    </tr>\n",
       "  </tbody>\n",
       "</table>\n",
       "<p>295579 rows × 17 columns</p>\n",
       "</div>"
      ],
      "text/plain": [
       "        Casualty_Severity  Sex_of_Driver  Police Officer Attend  \\\n",
       "0                       3              1                      3   \n",
       "1                       3              1                      3   \n",
       "2                       3              1                      3   \n",
       "3                       3              3                      3   \n",
       "4                       3              3                      3   \n",
       "...                   ...            ...                    ...   \n",
       "295574                  3              1                      1   \n",
       "295575                  3              1                      2   \n",
       "295576                  3              1                      2   \n",
       "295577                  3              1                      2   \n",
       "295578                  2              1                      1   \n",
       "\n",
       "        2nd_Road_Class  Junction_Control  Weather  Casualty_Type  \\\n",
       "0                    3                 2        1              9   \n",
       "1                    3                 2        1              9   \n",
       "2                    3                 2        1              9   \n",
       "3                    3                 2        1              9   \n",
       "4                    3                 2        1              9   \n",
       "...                ...               ...      ...            ...   \n",
       "295574              -1                -1        1             19   \n",
       "295575               4                 4        1              9   \n",
       "295576               4                 4        1              9   \n",
       "295577               6                 4        1              0   \n",
       "295578              -1                -1        1              5   \n",
       "\n",
       "        Junction_Detail  Ped Cross - Physical  1st_Road_Class  Vehicle_Type  \\\n",
       "0                     1                     5               3             9   \n",
       "1                     1                     5               3             9   \n",
       "2                     1                     5               3             9   \n",
       "3                     1                     5               3             9   \n",
       "4                     1                     5               3             9   \n",
       "...                 ...                   ...             ...           ...   \n",
       "295574                0                     0               3            19   \n",
       "295575                3                     0               4             9   \n",
       "295576                3                     0               4             9   \n",
       "295577                3                     0               6             9   \n",
       "295578                0                     0               3             5   \n",
       "\n",
       "        Number_of_Vehicles  2nd_Road_Number  Engine_Capacity_(CC)  \\\n",
       "0                        2             4202                    -1   \n",
       "1                        2             4202                    -1   \n",
       "2                        2             4202                    -1   \n",
       "3                        2             4202                    -1   \n",
       "4                        2             4202                    -1   \n",
       "...                    ...              ...                   ...   \n",
       "295574                   4                0                  2198   \n",
       "295575                   2              721                  1997   \n",
       "295576                   2              721                  2967   \n",
       "295577                   1              723                  1597   \n",
       "295578                   1                0                   599   \n",
       "\n",
       "        Day_of_Week  Junction_Location  1st_Point_of_Impact  \n",
       "0                 2                 -1                    4  \n",
       "1                 2                 -1                    4  \n",
       "2                 2                 -1                    4  \n",
       "3                 2                 -1                   -1  \n",
       "4                 2                 -1                   -1  \n",
       "...             ...                ...                  ...  \n",
       "295574            5                  0                    3  \n",
       "295575            6                  1                    1  \n",
       "295576            6                  1                    0  \n",
       "295577            7                  6                    3  \n",
       "295578            1                  0                    4  \n",
       "\n",
       "[295579 rows x 17 columns]"
      ]
     },
     "execution_count": 117,
     "metadata": {},
     "output_type": "execute_result"
    }
   ],
   "source": [
    "x"
   ]
  },
  {
   "cell_type": "code",
   "execution_count": 118,
   "metadata": {},
   "outputs": [],
   "source": [
    "x_train, x_test, y_train, y_test = train_test_split(x, y, test_size=0.30, random_state=1) "
   ]
  },
  {
   "cell_type": "code",
   "execution_count": null,
   "metadata": {},
   "outputs": [],
   "source": []
  },
  {
   "cell_type": "code",
   "execution_count": 119,
   "metadata": {},
   "outputs": [],
   "source": [
    "from sklearn.tree import DecisionTreeClassifier\n",
    "clf = DecisionTreeClassifier(criterion=\"gini\")\n",
    "clf = clf.fit(x_train, y_train)"
   ]
  },
  {
   "cell_type": "code",
   "execution_count": 120,
   "metadata": {},
   "outputs": [
    {
     "name": "stdout",
     "output_type": "stream",
     "text": [
      "[3 3 3 ... 3 2 3]\n"
     ]
    }
   ],
   "source": [
    "predictions_clf = clf.predict(x_test)\n",
    "print(predictions_clf)"
   ]
  },
  {
   "cell_type": "code",
   "execution_count": 121,
   "metadata": {},
   "outputs": [
    {
     "name": "stdout",
     "output_type": "stream",
     "text": [
      "0.9386404131989083\n"
     ]
    }
   ],
   "source": [
    "from sklearn.metrics import accuracy_score\n",
    "acc= accuracy_score(y_test, predictions_clf)\n",
    "print(acc)"
   ]
  },
  {
   "cell_type": "code",
   "execution_count": 122,
   "metadata": {},
   "outputs": [
    {
     "name": "stdout",
     "output_type": "stream",
     "text": [
      "Wall time: 0 ns\n"
     ]
    }
   ],
   "source": [
    "%%time\n",
    "from sklearn.naive_bayes import GaussianNB"
   ]
  },
  {
   "cell_type": "code",
   "execution_count": 123,
   "metadata": {},
   "outputs": [
    {
     "name": "stdout",
     "output_type": "stream",
     "text": [
      "Gaussian Naive Bayes model accuracy in %: 90.77294359113156\n"
     ]
    }
   ],
   "source": [
    "gnb = GaussianNB()\n",
    "\n",
    "gnb.fit(x_train, y_train)\n",
    "\n",
    "# making predictions on the testing set\n",
    "\n",
    "y_pred = gnb.predict(x_test)\n",
    "\n",
    "# comparing actual response values (y_test) with predicted response values (y_pred)\n",
    "\n",
    "from sklearn import metrics\n",
    "\n",
    "print(\"Gaussian Naive Bayes model accuracy in %:\", metrics.accuracy_score(y_test, y_pred)*100)"
   ]
  },
  {
   "cell_type": "code",
   "execution_count": null,
   "metadata": {},
   "outputs": [],
   "source": []
  },
  {
   "cell_type": "code",
   "execution_count": null,
   "metadata": {},
   "outputs": [],
   "source": []
  },
  {
   "cell_type": "code",
   "execution_count": null,
   "metadata": {},
   "outputs": [],
   "source": []
  },
  {
   "cell_type": "code",
   "execution_count": null,
   "metadata": {},
   "outputs": [],
   "source": []
  },
  {
   "cell_type": "code",
   "execution_count": null,
   "metadata": {},
   "outputs": [],
   "source": []
  },
  {
   "cell_type": "code",
   "execution_count": null,
   "metadata": {},
   "outputs": [],
   "source": []
  },
  {
   "cell_type": "code",
   "execution_count": null,
   "metadata": {},
   "outputs": [],
   "source": []
  },
  {
   "cell_type": "code",
   "execution_count": null,
   "metadata": {},
   "outputs": [],
   "source": []
  },
  {
   "cell_type": "code",
   "execution_count": null,
   "metadata": {},
   "outputs": [],
   "source": []
  },
  {
   "cell_type": "code",
   "execution_count": null,
   "metadata": {},
   "outputs": [],
   "source": []
  },
  {
   "cell_type": "code",
   "execution_count": null,
   "metadata": {},
   "outputs": [],
   "source": []
  }
 ],
 "metadata": {
  "kernelspec": {
   "display_name": "Python 3",
   "language": "python",
   "name": "python3"
  },
  "language_info": {
   "codemirror_mode": {
    "name": "ipython",
    "version": 3
   },
   "file_extension": ".py",
   "mimetype": "text/x-python",
   "name": "python",
   "nbconvert_exporter": "python",
   "pygments_lexer": "ipython3",
   "version": "3.8.3"
  }
 },
 "nbformat": 4,
 "nbformat_minor": 4
}
